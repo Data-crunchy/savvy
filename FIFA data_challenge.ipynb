{
 "cells": [
  {
   "cell_type": "markdown",
   "metadata": {},
   "source": [
    "# Import Relevant libraries"
   ]
  },
  {
   "cell_type": "code",
   "execution_count": 1,
   "metadata": {},
   "outputs": [],
   "source": [
    "import pandas as pd\n",
    "import numpy as np\n",
    "import seaborn as sns\n"
   ]
  },
  {
   "cell_type": "markdown",
   "metadata": {},
   "source": [
    "# Load the dataset"
   ]
  },
  {
   "cell_type": "code",
   "execution_count": 2,
   "metadata": {},
   "outputs": [
    {
     "data": {
      "text/html": [
       "<div>\n",
       "<style scoped>\n",
       "    .dataframe tbody tr th:only-of-type {\n",
       "        vertical-align: middle;\n",
       "    }\n",
       "\n",
       "    .dataframe tbody tr th {\n",
       "        vertical-align: top;\n",
       "    }\n",
       "\n",
       "    .dataframe thead th {\n",
       "        text-align: right;\n",
       "    }\n",
       "</style>\n",
       "<table border=\"1\" class=\"dataframe\">\n",
       "  <thead>\n",
       "    <tr style=\"text-align: right;\">\n",
       "      <th></th>\n",
       "      <th>ID</th>\n",
       "      <th>Name</th>\n",
       "      <th>LongName</th>\n",
       "      <th>photoUrl</th>\n",
       "      <th>playerUrl</th>\n",
       "      <th>Nationality</th>\n",
       "      <th>Age</th>\n",
       "      <th>↓OVA</th>\n",
       "      <th>POT</th>\n",
       "      <th>Club</th>\n",
       "      <th>...</th>\n",
       "      <th>A/W</th>\n",
       "      <th>D/W</th>\n",
       "      <th>IR</th>\n",
       "      <th>PAC</th>\n",
       "      <th>SHO</th>\n",
       "      <th>PAS</th>\n",
       "      <th>DRI</th>\n",
       "      <th>DEF</th>\n",
       "      <th>PHY</th>\n",
       "      <th>Hits</th>\n",
       "    </tr>\n",
       "  </thead>\n",
       "  <tbody>\n",
       "    <tr>\n",
       "      <th>0</th>\n",
       "      <td>158023</td>\n",
       "      <td>L. Messi</td>\n",
       "      <td>Lionel Messi</td>\n",
       "      <td>https://cdn.sofifa.com/players/158/023/21_60.png</td>\n",
       "      <td>http://sofifa.com/player/158023/lionel-messi/2...</td>\n",
       "      <td>Argentina</td>\n",
       "      <td>33</td>\n",
       "      <td>93</td>\n",
       "      <td>93</td>\n",
       "      <td>\\n\\n\\n\\nFC Barcelona</td>\n",
       "      <td>...</td>\n",
       "      <td>Medium</td>\n",
       "      <td>Low</td>\n",
       "      <td>5 ★</td>\n",
       "      <td>85</td>\n",
       "      <td>92</td>\n",
       "      <td>91</td>\n",
       "      <td>95</td>\n",
       "      <td>38</td>\n",
       "      <td>65</td>\n",
       "      <td>771</td>\n",
       "    </tr>\n",
       "    <tr>\n",
       "      <th>1</th>\n",
       "      <td>20801</td>\n",
       "      <td>Cristiano Ronaldo</td>\n",
       "      <td>C. Ronaldo dos Santos Aveiro</td>\n",
       "      <td>https://cdn.sofifa.com/players/020/801/21_60.png</td>\n",
       "      <td>http://sofifa.com/player/20801/c-ronaldo-dos-s...</td>\n",
       "      <td>Portugal</td>\n",
       "      <td>35</td>\n",
       "      <td>92</td>\n",
       "      <td>92</td>\n",
       "      <td>\\n\\n\\n\\nJuventus</td>\n",
       "      <td>...</td>\n",
       "      <td>High</td>\n",
       "      <td>Low</td>\n",
       "      <td>5 ★</td>\n",
       "      <td>89</td>\n",
       "      <td>93</td>\n",
       "      <td>81</td>\n",
       "      <td>89</td>\n",
       "      <td>35</td>\n",
       "      <td>77</td>\n",
       "      <td>562</td>\n",
       "    </tr>\n",
       "    <tr>\n",
       "      <th>2</th>\n",
       "      <td>200389</td>\n",
       "      <td>J. Oblak</td>\n",
       "      <td>Jan Oblak</td>\n",
       "      <td>https://cdn.sofifa.com/players/200/389/21_60.png</td>\n",
       "      <td>http://sofifa.com/player/200389/jan-oblak/210006/</td>\n",
       "      <td>Slovenia</td>\n",
       "      <td>27</td>\n",
       "      <td>91</td>\n",
       "      <td>93</td>\n",
       "      <td>\\n\\n\\n\\nAtlético Madrid</td>\n",
       "      <td>...</td>\n",
       "      <td>Medium</td>\n",
       "      <td>Medium</td>\n",
       "      <td>3 ★</td>\n",
       "      <td>87</td>\n",
       "      <td>92</td>\n",
       "      <td>78</td>\n",
       "      <td>90</td>\n",
       "      <td>52</td>\n",
       "      <td>90</td>\n",
       "      <td>150</td>\n",
       "    </tr>\n",
       "    <tr>\n",
       "      <th>3</th>\n",
       "      <td>192985</td>\n",
       "      <td>K. De Bruyne</td>\n",
       "      <td>Kevin De Bruyne</td>\n",
       "      <td>https://cdn.sofifa.com/players/192/985/21_60.png</td>\n",
       "      <td>http://sofifa.com/player/192985/kevin-de-bruyn...</td>\n",
       "      <td>Belgium</td>\n",
       "      <td>29</td>\n",
       "      <td>91</td>\n",
       "      <td>91</td>\n",
       "      <td>\\n\\n\\n\\nManchester City</td>\n",
       "      <td>...</td>\n",
       "      <td>High</td>\n",
       "      <td>High</td>\n",
       "      <td>4 ★</td>\n",
       "      <td>76</td>\n",
       "      <td>86</td>\n",
       "      <td>93</td>\n",
       "      <td>88</td>\n",
       "      <td>64</td>\n",
       "      <td>78</td>\n",
       "      <td>207</td>\n",
       "    </tr>\n",
       "    <tr>\n",
       "      <th>4</th>\n",
       "      <td>190871</td>\n",
       "      <td>Neymar Jr</td>\n",
       "      <td>Neymar da Silva Santos Jr.</td>\n",
       "      <td>https://cdn.sofifa.com/players/190/871/21_60.png</td>\n",
       "      <td>http://sofifa.com/player/190871/neymar-da-silv...</td>\n",
       "      <td>Brazil</td>\n",
       "      <td>28</td>\n",
       "      <td>91</td>\n",
       "      <td>91</td>\n",
       "      <td>\\n\\n\\n\\nParis Saint-Germain</td>\n",
       "      <td>...</td>\n",
       "      <td>High</td>\n",
       "      <td>Medium</td>\n",
       "      <td>5 ★</td>\n",
       "      <td>91</td>\n",
       "      <td>85</td>\n",
       "      <td>86</td>\n",
       "      <td>94</td>\n",
       "      <td>36</td>\n",
       "      <td>59</td>\n",
       "      <td>595</td>\n",
       "    </tr>\n",
       "  </tbody>\n",
       "</table>\n",
       "<p>5 rows × 77 columns</p>\n",
       "</div>"
      ],
      "text/plain": [
       "       ID               Name                      LongName  \\\n",
       "0  158023           L. Messi                  Lionel Messi   \n",
       "1   20801  Cristiano Ronaldo  C. Ronaldo dos Santos Aveiro   \n",
       "2  200389           J. Oblak                     Jan Oblak   \n",
       "3  192985       K. De Bruyne               Kevin De Bruyne   \n",
       "4  190871          Neymar Jr    Neymar da Silva Santos Jr.   \n",
       "\n",
       "                                           photoUrl  \\\n",
       "0  https://cdn.sofifa.com/players/158/023/21_60.png   \n",
       "1  https://cdn.sofifa.com/players/020/801/21_60.png   \n",
       "2  https://cdn.sofifa.com/players/200/389/21_60.png   \n",
       "3  https://cdn.sofifa.com/players/192/985/21_60.png   \n",
       "4  https://cdn.sofifa.com/players/190/871/21_60.png   \n",
       "\n",
       "                                           playerUrl Nationality  Age  ↓OVA  \\\n",
       "0  http://sofifa.com/player/158023/lionel-messi/2...   Argentina   33    93   \n",
       "1  http://sofifa.com/player/20801/c-ronaldo-dos-s...    Portugal   35    92   \n",
       "2  http://sofifa.com/player/200389/jan-oblak/210006/    Slovenia   27    91   \n",
       "3  http://sofifa.com/player/192985/kevin-de-bruyn...     Belgium   29    91   \n",
       "4  http://sofifa.com/player/190871/neymar-da-silv...      Brazil   28    91   \n",
       "\n",
       "   POT                         Club  ...     A/W     D/W   IR PAC SHO  PAS  \\\n",
       "0   93         \\n\\n\\n\\nFC Barcelona  ...  Medium     Low  5 ★  85  92   91   \n",
       "1   92             \\n\\n\\n\\nJuventus  ...    High     Low  5 ★  89  93   81   \n",
       "2   93      \\n\\n\\n\\nAtlético Madrid  ...  Medium  Medium  3 ★  87  92   78   \n",
       "3   91      \\n\\n\\n\\nManchester City  ...    High    High  4 ★  76  86   93   \n",
       "4   91  \\n\\n\\n\\nParis Saint-Germain  ...    High  Medium  5 ★  91  85   86   \n",
       "\n",
       "  DRI DEF PHY Hits  \n",
       "0  95  38  65  771  \n",
       "1  89  35  77  562  \n",
       "2  90  52  90  150  \n",
       "3  88  64  78  207  \n",
       "4  94  36  59  595  \n",
       "\n",
       "[5 rows x 77 columns]"
      ]
     },
     "execution_count": 2,
     "metadata": {},
     "output_type": "execute_result"
    }
   ],
   "source": [
    "fd=pd.read_excel('fifa21 raw data v2.xlsx')\n",
    "fd.head()"
   ]
  },
  {
   "cell_type": "markdown",
   "metadata": {},
   "source": [
    "# Make a copy of the Dataset"
   ]
  },
  {
   "cell_type": "code",
   "execution_count": 3,
   "metadata": {},
   "outputs": [],
   "source": [
    "fd2=fd.copy()"
   ]
  },
  {
   "cell_type": "code",
   "execution_count": 4,
   "metadata": {},
   "outputs": [
    {
     "name": "stdout",
     "output_type": "stream",
     "text": [
      "<class 'pandas.core.frame.DataFrame'>\n",
      "RangeIndex: 18979 entries, 0 to 18978\n",
      "Data columns (total 77 columns):\n",
      " #   Column            Non-Null Count  Dtype         \n",
      "---  ------            --------------  -----         \n",
      " 0   ID                18979 non-null  int64         \n",
      " 1   Name              18979 non-null  object        \n",
      " 2   LongName          18979 non-null  object        \n",
      " 3   photoUrl          18979 non-null  object        \n",
      " 4   playerUrl         18979 non-null  object        \n",
      " 5   Nationality       18979 non-null  object        \n",
      " 6   Age               18979 non-null  int64         \n",
      " 7   ↓OVA              18979 non-null  int64         \n",
      " 8   POT               18979 non-null  int64         \n",
      " 9   Club              18979 non-null  object        \n",
      " 10  Contract          18979 non-null  object        \n",
      " 11  Positions         18979 non-null  object        \n",
      " 12  Height            18979 non-null  object        \n",
      " 13  Weight            18979 non-null  object        \n",
      " 14  Preferred Foot    18979 non-null  object        \n",
      " 15  BOV               18979 non-null  int64         \n",
      " 16  Best Position     18979 non-null  object        \n",
      " 17  Joined            18979 non-null  datetime64[ns]\n",
      " 18  Loan Date End     1013 non-null   datetime64[ns]\n",
      " 19  Value             18979 non-null  object        \n",
      " 20  Wage              18979 non-null  object        \n",
      " 21  Release Clause    18979 non-null  object        \n",
      " 22  Attacking         18979 non-null  int64         \n",
      " 23  Crossing          18979 non-null  int64         \n",
      " 24  Finishing         18979 non-null  int64         \n",
      " 25  Heading Accuracy  18979 non-null  int64         \n",
      " 26  Short Passing     18979 non-null  int64         \n",
      " 27  Volleys           18979 non-null  int64         \n",
      " 28  Skill             18979 non-null  int64         \n",
      " 29  Dribbling         18979 non-null  int64         \n",
      " 30  Curve             18979 non-null  int64         \n",
      " 31  FK Accuracy       18979 non-null  int64         \n",
      " 32  Long Passing      18979 non-null  int64         \n",
      " 33  Ball Control      18979 non-null  int64         \n",
      " 34  Movement          18979 non-null  int64         \n",
      " 35  Acceleration      18979 non-null  int64         \n",
      " 36  Sprint Speed      18979 non-null  int64         \n",
      " 37  Agility           18979 non-null  int64         \n",
      " 38  Reactions         18979 non-null  int64         \n",
      " 39  Balance           18979 non-null  int64         \n",
      " 40  Power             18979 non-null  int64         \n",
      " 41  Shot Power        18979 non-null  int64         \n",
      " 42  Jumping           18979 non-null  int64         \n",
      " 43  Stamina           18979 non-null  int64         \n",
      " 44  Strength          18979 non-null  int64         \n",
      " 45  Long Shots        18979 non-null  int64         \n",
      " 46  Mentality         18979 non-null  int64         \n",
      " 47  Aggression        18979 non-null  int64         \n",
      " 48  Interceptions     18979 non-null  int64         \n",
      " 49  Positioning       18979 non-null  int64         \n",
      " 50  Vision            18979 non-null  int64         \n",
      " 51  Penalties         18979 non-null  int64         \n",
      " 52  Composure         18979 non-null  int64         \n",
      " 53  Defending         18979 non-null  int64         \n",
      " 54  Marking           18979 non-null  int64         \n",
      " 55  Standing Tackle   18979 non-null  int64         \n",
      " 56  Sliding Tackle    18979 non-null  int64         \n",
      " 57  Goalkeeping       18979 non-null  int64         \n",
      " 58  GK Diving         18979 non-null  int64         \n",
      " 59  GK Handling       18979 non-null  int64         \n",
      " 60  GK Kicking        18979 non-null  int64         \n",
      " 61  GK Positioning    18979 non-null  int64         \n",
      " 62  GK Reflexes       18979 non-null  int64         \n",
      " 63  Total Stats       18979 non-null  int64         \n",
      " 64  Base Stats        18979 non-null  int64         \n",
      " 65  W/F               18979 non-null  object        \n",
      " 66  SM                18979 non-null  object        \n",
      " 67  A/W               18979 non-null  object        \n",
      " 68  D/W               18979 non-null  object        \n",
      " 69  IR                18979 non-null  object        \n",
      " 70  PAC               18979 non-null  int64         \n",
      " 71  SHO               18979 non-null  int64         \n",
      " 72  PAS               18979 non-null  int64         \n",
      " 73  DRI               18979 non-null  int64         \n",
      " 74  DEF               18979 non-null  int64         \n",
      " 75  PHY               18979 non-null  int64         \n",
      " 76  Hits              16384 non-null  object        \n",
      "dtypes: datetime64[ns](2), int64(54), object(21)\n",
      "memory usage: 11.1+ MB\n"
     ]
    }
   ],
   "source": [
    "fd.info()"
   ]
  },
  {
   "cell_type": "raw",
   "metadata": {},
   "source": [
    "From the info we can see that the loan end date has a lot of missing data. We'll drop the column since we have another\n",
    "column that conveys sameinformation ie the Contract column"
   ]
  },
  {
   "cell_type": "code",
   "execution_count": 5,
   "metadata": {},
   "outputs": [
    {
     "data": {
      "text/plain": [
       "RangeIndex(start=0, stop=18979, step=1)"
      ]
     },
     "execution_count": 5,
     "metadata": {},
     "output_type": "execute_result"
    }
   ],
   "source": [
    "fd.index"
   ]
  },
  {
   "cell_type": "markdown",
   "metadata": {},
   "source": [
    "# Checking for missing Values"
   ]
  },
  {
   "cell_type": "code",
   "execution_count": 6,
   "metadata": {},
   "outputs": [
    {
     "data": {
      "text/plain": [
       "ID              0\n",
       "Name            0\n",
       "LongName        0\n",
       "photoUrl        0\n",
       "playerUrl       0\n",
       "             ... \n",
       "PAS             0\n",
       "DRI             0\n",
       "DEF             0\n",
       "PHY             0\n",
       "Hits         2595\n",
       "Length: 77, dtype: int64"
      ]
     },
     "execution_count": 6,
     "metadata": {},
     "output_type": "execute_result"
    }
   ],
   "source": [
    "missing_values_count=fd.isnull().sum()\n",
    "missing_values_count"
   ]
  },
  {
   "cell_type": "code",
   "execution_count": 7,
   "metadata": {},
   "outputs": [
    {
     "name": "stdout",
     "output_type": "stream",
     "text": [
      "20561\n"
     ]
    }
   ],
   "source": [
    "Total_missing=missing_values_count.sum()\n",
    "print(Total_missing)"
   ]
  },
  {
   "cell_type": "markdown",
   "metadata": {},
   "source": [
    "# Dealing with missing data"
   ]
  },
  {
   "cell_type": "code",
   "execution_count": 8,
   "metadata": {},
   "outputs": [],
   "source": [
    "fd.drop('Loan Date End', axis=1, inplace=True)\n",
    "fd['Hits'].fillna(0, inplace=True)"
   ]
  },
  {
   "cell_type": "code",
   "execution_count": 9,
   "metadata": {},
   "outputs": [
    {
     "name": "stdout",
     "output_type": "stream",
     "text": [
      "No Null values\n"
     ]
    }
   ],
   "source": [
    "if fd.isnull().values.any():\n",
    "    print('Null values present')\n",
    "else:\n",
    "    print('No Null values')"
   ]
  },
  {
   "cell_type": "code",
   "execution_count": 10,
   "metadata": {},
   "outputs": [
    {
     "data": {
      "text/plain": [
       "False"
      ]
     },
     "execution_count": 10,
     "metadata": {},
     "output_type": "execute_result"
    }
   ],
   "source": [
    "fd.isnull().values.any()"
   ]
  },
  {
   "cell_type": "code",
   "execution_count": 11,
   "metadata": {
    "scrolled": true
   },
   "outputs": [
    {
     "name": "stdout",
     "output_type": "stream",
     "text": [
      "<class 'pandas.core.frame.DataFrame'>\n",
      "RangeIndex: 18979 entries, 0 to 18978\n",
      "Data columns (total 76 columns):\n",
      " #   Column            Non-Null Count  Dtype         \n",
      "---  ------            --------------  -----         \n",
      " 0   ID                18979 non-null  int64         \n",
      " 1   Name              18979 non-null  object        \n",
      " 2   LongName          18979 non-null  object        \n",
      " 3   photoUrl          18979 non-null  object        \n",
      " 4   playerUrl         18979 non-null  object        \n",
      " 5   Nationality       18979 non-null  object        \n",
      " 6   Age               18979 non-null  int64         \n",
      " 7   ↓OVA              18979 non-null  int64         \n",
      " 8   POT               18979 non-null  int64         \n",
      " 9   Club              18979 non-null  object        \n",
      " 10  Contract          18979 non-null  object        \n",
      " 11  Positions         18979 non-null  object        \n",
      " 12  Height            18979 non-null  object        \n",
      " 13  Weight            18979 non-null  object        \n",
      " 14  Preferred Foot    18979 non-null  object        \n",
      " 15  BOV               18979 non-null  int64         \n",
      " 16  Best Position     18979 non-null  object        \n",
      " 17  Joined            18979 non-null  datetime64[ns]\n",
      " 18  Value             18979 non-null  object        \n",
      " 19  Wage              18979 non-null  object        \n",
      " 20  Release Clause    18979 non-null  object        \n",
      " 21  Attacking         18979 non-null  int64         \n",
      " 22  Crossing          18979 non-null  int64         \n",
      " 23  Finishing         18979 non-null  int64         \n",
      " 24  Heading Accuracy  18979 non-null  int64         \n",
      " 25  Short Passing     18979 non-null  int64         \n",
      " 26  Volleys           18979 non-null  int64         \n",
      " 27  Skill             18979 non-null  int64         \n",
      " 28  Dribbling         18979 non-null  int64         \n",
      " 29  Curve             18979 non-null  int64         \n",
      " 30  FK Accuracy       18979 non-null  int64         \n",
      " 31  Long Passing      18979 non-null  int64         \n",
      " 32  Ball Control      18979 non-null  int64         \n",
      " 33  Movement          18979 non-null  int64         \n",
      " 34  Acceleration      18979 non-null  int64         \n",
      " 35  Sprint Speed      18979 non-null  int64         \n",
      " 36  Agility           18979 non-null  int64         \n",
      " 37  Reactions         18979 non-null  int64         \n",
      " 38  Balance           18979 non-null  int64         \n",
      " 39  Power             18979 non-null  int64         \n",
      " 40  Shot Power        18979 non-null  int64         \n",
      " 41  Jumping           18979 non-null  int64         \n",
      " 42  Stamina           18979 non-null  int64         \n",
      " 43  Strength          18979 non-null  int64         \n",
      " 44  Long Shots        18979 non-null  int64         \n",
      " 45  Mentality         18979 non-null  int64         \n",
      " 46  Aggression        18979 non-null  int64         \n",
      " 47  Interceptions     18979 non-null  int64         \n",
      " 48  Positioning       18979 non-null  int64         \n",
      " 49  Vision            18979 non-null  int64         \n",
      " 50  Penalties         18979 non-null  int64         \n",
      " 51  Composure         18979 non-null  int64         \n",
      " 52  Defending         18979 non-null  int64         \n",
      " 53  Marking           18979 non-null  int64         \n",
      " 54  Standing Tackle   18979 non-null  int64         \n",
      " 55  Sliding Tackle    18979 non-null  int64         \n",
      " 56  Goalkeeping       18979 non-null  int64         \n",
      " 57  GK Diving         18979 non-null  int64         \n",
      " 58  GK Handling       18979 non-null  int64         \n",
      " 59  GK Kicking        18979 non-null  int64         \n",
      " 60  GK Positioning    18979 non-null  int64         \n",
      " 61  GK Reflexes       18979 non-null  int64         \n",
      " 62  Total Stats       18979 non-null  int64         \n",
      " 63  Base Stats        18979 non-null  int64         \n",
      " 64  W/F               18979 non-null  object        \n",
      " 65  SM                18979 non-null  object        \n",
      " 66  A/W               18979 non-null  object        \n",
      " 67  D/W               18979 non-null  object        \n",
      " 68  IR                18979 non-null  object        \n",
      " 69  PAC               18979 non-null  int64         \n",
      " 70  SHO               18979 non-null  int64         \n",
      " 71  PAS               18979 non-null  int64         \n",
      " 72  DRI               18979 non-null  int64         \n",
      " 73  DEF               18979 non-null  int64         \n",
      " 74  PHY               18979 non-null  int64         \n",
      " 75  Hits              18979 non-null  object        \n",
      "dtypes: datetime64[ns](1), int64(54), object(21)\n",
      "memory usage: 11.0+ MB\n"
     ]
    }
   ],
   "source": [
    "fd.info()"
   ]
  },
  {
   "cell_type": "code",
   "execution_count": 12,
   "metadata": {
    "scrolled": true
   },
   "outputs": [
    {
     "data": {
      "text/plain": [
       "Index(['ID', 'Name', 'LongName', 'photoUrl', 'playerUrl', 'Nationality', 'Age',\n",
       "       '↓OVA', 'POT', 'Club', 'Contract', 'Positions', 'Height', 'Weight',\n",
       "       'Preferred Foot', 'BOV', 'Best Position', 'Joined', 'Value', 'Wage',\n",
       "       'Release Clause', 'Attacking', 'Crossing', 'Finishing',\n",
       "       'Heading Accuracy', 'Short Passing', 'Volleys', 'Skill', 'Dribbling',\n",
       "       'Curve', 'FK Accuracy', 'Long Passing', 'Ball Control', 'Movement',\n",
       "       'Acceleration', 'Sprint Speed', 'Agility', 'Reactions', 'Balance',\n",
       "       'Power', 'Shot Power', 'Jumping', 'Stamina', 'Strength', 'Long Shots',\n",
       "       'Mentality', 'Aggression', 'Interceptions', 'Positioning', 'Vision',\n",
       "       'Penalties', 'Composure', 'Defending', 'Marking', 'Standing Tackle',\n",
       "       'Sliding Tackle', 'Goalkeeping', 'GK Diving', 'GK Handling',\n",
       "       'GK Kicking', 'GK Positioning', 'GK Reflexes', 'Total Stats',\n",
       "       'Base Stats', 'W/F', 'SM', 'A/W', 'D/W', 'IR', 'PAC', 'SHO', 'PAS',\n",
       "       'DRI', 'DEF', 'PHY', 'Hits'],\n",
       "      dtype='object')"
      ]
     },
     "execution_count": 12,
     "metadata": {},
     "output_type": "execute_result"
    }
   ],
   "source": [
    "fd.columns"
   ]
  },
  {
   "cell_type": "markdown",
   "metadata": {},
   "source": [
    "# Drop columns that may not be needed"
   ]
  },
  {
   "cell_type": "code",
   "execution_count": 13,
   "metadata": {},
   "outputs": [],
   "source": [
    "fd.drop(['playerUrl'], axis =1, inplace = True)\n",
    "fd.drop('Name',axis =1, inplace=True)"
   ]
  },
  {
   "cell_type": "code",
   "execution_count": 14,
   "metadata": {
    "scrolled": true
   },
   "outputs": [
    {
     "data": {
      "text/html": [
       "<div>\n",
       "<style scoped>\n",
       "    .dataframe tbody tr th:only-of-type {\n",
       "        vertical-align: middle;\n",
       "    }\n",
       "\n",
       "    .dataframe tbody tr th {\n",
       "        vertical-align: top;\n",
       "    }\n",
       "\n",
       "    .dataframe thead th {\n",
       "        text-align: right;\n",
       "    }\n",
       "</style>\n",
       "<table border=\"1\" class=\"dataframe\">\n",
       "  <thead>\n",
       "    <tr style=\"text-align: right;\">\n",
       "      <th></th>\n",
       "      <th>LongName</th>\n",
       "      <th>photoUrl</th>\n",
       "      <th>Nationality</th>\n",
       "      <th>Age</th>\n",
       "      <th>↓OVA</th>\n",
       "      <th>POT</th>\n",
       "      <th>Club</th>\n",
       "      <th>Contract</th>\n",
       "      <th>Positions</th>\n",
       "      <th>Height</th>\n",
       "      <th>Weight</th>\n",
       "      <th>Preferred Foot</th>\n",
       "      <th>BOV</th>\n",
       "      <th>Best Position</th>\n",
       "      <th>Joined</th>\n",
       "      <th>Value</th>\n",
       "      <th>Wage</th>\n",
       "      <th>Release Clause</th>\n",
       "      <th>Attacking</th>\n",
       "      <th>Crossing</th>\n",
       "    </tr>\n",
       "  </thead>\n",
       "  <tbody>\n",
       "    <tr>\n",
       "      <th>0</th>\n",
       "      <td>Lionel Messi</td>\n",
       "      <td>https://cdn.sofifa.com/players/158/023/21_60.png</td>\n",
       "      <td>Argentina</td>\n",
       "      <td>33</td>\n",
       "      <td>93</td>\n",
       "      <td>93</td>\n",
       "      <td>\\n\\n\\n\\nFC Barcelona</td>\n",
       "      <td>2004 ~ 2021</td>\n",
       "      <td>RW, ST, CF</td>\n",
       "      <td>170cm</td>\n",
       "      <td>72kg</td>\n",
       "      <td>Left</td>\n",
       "      <td>93</td>\n",
       "      <td>RW</td>\n",
       "      <td>2004-07-01</td>\n",
       "      <td>€103.5M</td>\n",
       "      <td>€560K</td>\n",
       "      <td>€138.4M</td>\n",
       "      <td>429</td>\n",
       "      <td>85</td>\n",
       "    </tr>\n",
       "    <tr>\n",
       "      <th>1</th>\n",
       "      <td>C. Ronaldo dos Santos Aveiro</td>\n",
       "      <td>https://cdn.sofifa.com/players/020/801/21_60.png</td>\n",
       "      <td>Portugal</td>\n",
       "      <td>35</td>\n",
       "      <td>92</td>\n",
       "      <td>92</td>\n",
       "      <td>\\n\\n\\n\\nJuventus</td>\n",
       "      <td>2018 ~ 2022</td>\n",
       "      <td>ST, LW</td>\n",
       "      <td>187cm</td>\n",
       "      <td>83kg</td>\n",
       "      <td>Right</td>\n",
       "      <td>92</td>\n",
       "      <td>ST</td>\n",
       "      <td>2018-07-10</td>\n",
       "      <td>€63M</td>\n",
       "      <td>€220K</td>\n",
       "      <td>€75.9M</td>\n",
       "      <td>437</td>\n",
       "      <td>84</td>\n",
       "    </tr>\n",
       "    <tr>\n",
       "      <th>2</th>\n",
       "      <td>Jan Oblak</td>\n",
       "      <td>https://cdn.sofifa.com/players/200/389/21_60.png</td>\n",
       "      <td>Slovenia</td>\n",
       "      <td>27</td>\n",
       "      <td>91</td>\n",
       "      <td>93</td>\n",
       "      <td>\\n\\n\\n\\nAtlético Madrid</td>\n",
       "      <td>2014 ~ 2023</td>\n",
       "      <td>GK</td>\n",
       "      <td>188cm</td>\n",
       "      <td>87kg</td>\n",
       "      <td>Right</td>\n",
       "      <td>91</td>\n",
       "      <td>GK</td>\n",
       "      <td>2014-07-16</td>\n",
       "      <td>€120M</td>\n",
       "      <td>€125K</td>\n",
       "      <td>€159.4M</td>\n",
       "      <td>95</td>\n",
       "      <td>13</td>\n",
       "    </tr>\n",
       "    <tr>\n",
       "      <th>3</th>\n",
       "      <td>Kevin De Bruyne</td>\n",
       "      <td>https://cdn.sofifa.com/players/192/985/21_60.png</td>\n",
       "      <td>Belgium</td>\n",
       "      <td>29</td>\n",
       "      <td>91</td>\n",
       "      <td>91</td>\n",
       "      <td>\\n\\n\\n\\nManchester City</td>\n",
       "      <td>2015 ~ 2023</td>\n",
       "      <td>CAM, CM</td>\n",
       "      <td>181cm</td>\n",
       "      <td>70kg</td>\n",
       "      <td>Right</td>\n",
       "      <td>91</td>\n",
       "      <td>CAM</td>\n",
       "      <td>2015-08-30</td>\n",
       "      <td>€129M</td>\n",
       "      <td>€370K</td>\n",
       "      <td>€161M</td>\n",
       "      <td>407</td>\n",
       "      <td>94</td>\n",
       "    </tr>\n",
       "    <tr>\n",
       "      <th>4</th>\n",
       "      <td>Neymar da Silva Santos Jr.</td>\n",
       "      <td>https://cdn.sofifa.com/players/190/871/21_60.png</td>\n",
       "      <td>Brazil</td>\n",
       "      <td>28</td>\n",
       "      <td>91</td>\n",
       "      <td>91</td>\n",
       "      <td>\\n\\n\\n\\nParis Saint-Germain</td>\n",
       "      <td>2017 ~ 2022</td>\n",
       "      <td>LW, CAM</td>\n",
       "      <td>175cm</td>\n",
       "      <td>68kg</td>\n",
       "      <td>Right</td>\n",
       "      <td>91</td>\n",
       "      <td>LW</td>\n",
       "      <td>2017-08-03</td>\n",
       "      <td>€132M</td>\n",
       "      <td>€270K</td>\n",
       "      <td>€166.5M</td>\n",
       "      <td>408</td>\n",
       "      <td>85</td>\n",
       "    </tr>\n",
       "    <tr>\n",
       "      <th>5</th>\n",
       "      <td>Robert Lewandowski</td>\n",
       "      <td>https://cdn.sofifa.com/players/188/545/21_60.png</td>\n",
       "      <td>Poland</td>\n",
       "      <td>31</td>\n",
       "      <td>91</td>\n",
       "      <td>91</td>\n",
       "      <td>\\n\\n\\n\\nFC Bayern München</td>\n",
       "      <td>2014 ~ 2023</td>\n",
       "      <td>ST</td>\n",
       "      <td>184cm</td>\n",
       "      <td>80kg</td>\n",
       "      <td>Right</td>\n",
       "      <td>91</td>\n",
       "      <td>ST</td>\n",
       "      <td>2014-07-01</td>\n",
       "      <td>€111M</td>\n",
       "      <td>€240K</td>\n",
       "      <td>€132M</td>\n",
       "      <td>423</td>\n",
       "      <td>71</td>\n",
       "    </tr>\n",
       "  </tbody>\n",
       "</table>\n",
       "</div>"
      ],
      "text/plain": [
       "                       LongName  \\\n",
       "0                  Lionel Messi   \n",
       "1  C. Ronaldo dos Santos Aveiro   \n",
       "2                     Jan Oblak   \n",
       "3               Kevin De Bruyne   \n",
       "4    Neymar da Silva Santos Jr.   \n",
       "5            Robert Lewandowski   \n",
       "\n",
       "                                           photoUrl Nationality  Age  ↓OVA  \\\n",
       "0  https://cdn.sofifa.com/players/158/023/21_60.png   Argentina   33    93   \n",
       "1  https://cdn.sofifa.com/players/020/801/21_60.png    Portugal   35    92   \n",
       "2  https://cdn.sofifa.com/players/200/389/21_60.png    Slovenia   27    91   \n",
       "3  https://cdn.sofifa.com/players/192/985/21_60.png     Belgium   29    91   \n",
       "4  https://cdn.sofifa.com/players/190/871/21_60.png      Brazil   28    91   \n",
       "5  https://cdn.sofifa.com/players/188/545/21_60.png      Poland   31    91   \n",
       "\n",
       "   POT                         Club     Contract   Positions Height Weight  \\\n",
       "0   93         \\n\\n\\n\\nFC Barcelona  2004 ~ 2021  RW, ST, CF  170cm   72kg   \n",
       "1   92             \\n\\n\\n\\nJuventus  2018 ~ 2022      ST, LW  187cm   83kg   \n",
       "2   93      \\n\\n\\n\\nAtlético Madrid  2014 ~ 2023          GK  188cm   87kg   \n",
       "3   91      \\n\\n\\n\\nManchester City  2015 ~ 2023     CAM, CM  181cm   70kg   \n",
       "4   91  \\n\\n\\n\\nParis Saint-Germain  2017 ~ 2022     LW, CAM  175cm   68kg   \n",
       "5   91    \\n\\n\\n\\nFC Bayern München  2014 ~ 2023          ST  184cm   80kg   \n",
       "\n",
       "  Preferred Foot  BOV Best Position     Joined    Value   Wage Release Clause  \\\n",
       "0           Left   93            RW 2004-07-01  €103.5M  €560K        €138.4M   \n",
       "1          Right   92            ST 2018-07-10     €63M  €220K         €75.9M   \n",
       "2          Right   91            GK 2014-07-16    €120M  €125K        €159.4M   \n",
       "3          Right   91           CAM 2015-08-30    €129M  €370K          €161M   \n",
       "4          Right   91            LW 2017-08-03    €132M  €270K        €166.5M   \n",
       "5          Right   91            ST 2014-07-01    €111M  €240K          €132M   \n",
       "\n",
       "   Attacking  Crossing  \n",
       "0        429        85  \n",
       "1        437        84  \n",
       "2         95        13  \n",
       "3        407        94  \n",
       "4        408        85  \n",
       "5        423        71  "
      ]
     },
     "execution_count": 14,
     "metadata": {},
     "output_type": "execute_result"
    }
   ],
   "source": [
    "fd.iloc[:,1:21].head(6)"
   ]
  },
  {
   "cell_type": "markdown",
   "metadata": {},
   "source": [
    "# Cleaning the Club column"
   ]
  },
  {
   "cell_type": "code",
   "execution_count": 15,
   "metadata": {},
   "outputs": [],
   "source": [
    "def clean(column):\n",
    "    return column[4:]\n",
    "\n",
    "fd['Club'] = fd['Club'].apply(clean)"
   ]
  },
  {
   "cell_type": "code",
   "execution_count": 16,
   "metadata": {},
   "outputs": [
    {
     "data": {
      "text/plain": [
       "array(['FC Barcelona', 'Juventus', 'Atlético Madrid', 'Manchester City',\n",
       "       'Paris Saint-Germain', 'FC Bayern München', 'Liverpool',\n",
       "       'Real Madrid', 'Chelsea', 'Tottenham Hotspur', 'Inter', 'Napoli',\n",
       "       'Borussia Dortmund', 'Manchester United', 'Arsenal', 'Lazio',\n",
       "       'Leicester City', 'Borussia Mönchengladbach', 'Real Sociedad',\n",
       "       'Atalanta', 'Olympique Lyonnais', 'Milan', 'Villarreal CF',\n",
       "       'RB Leipzig', 'Cagliari', 'Ajax', 'SL Benfica', 'AS Monaco',\n",
       "       'Wolverhampton Wanderers', 'Everton', 'Fiorentina', 'FC Porto',\n",
       "       'RC Celta', 'Torino', 'Sevilla FC', 'Grêmio', 'Real Betis', 'Roma',\n",
       "       'Newcastle United', 'Eintracht Frankfurt', 'Valencia CF',\n",
       "       'Medipol Başakşehir FK', 'Inter Miami', 'Bayer 04 Leverkusen',\n",
       "       'Levante UD', 'Crystal Palace', 'Athletic Club de Bilbao',\n",
       "       'Shanghai SIPG FC', 'VfL Wolfsburg',\n",
       "       'Guangzhou Evergrande Taobao FC', 'Al Shabab',\n",
       "       'Olympique de Marseille', 'Los Angeles FC',\n",
       "       'Beijing Sinobo Guoan FC', 'Getafe CF', 'SV Werder Bremen',\n",
       "       'TSG 1899 Hoffenheim', 'LOSC Lille', 'Deportivo Alavés', 'Burnley',\n",
       "       'Leeds United', 'Fulham', 'PFC CSKA Moscow', 'Genoa',\n",
       "       'Galatasaray SK', 'Atlanta United', 'Atlético Mineiro', 'Flamengo',\n",
       "       'Palmeiras', 'lub', 'São Paulo', 'West Ham United', 'SD Eibar',\n",
       "       'River Plate', 'OGC Nice', 'Real Valladolid CF', 'Sporting CP',\n",
       "       'PSV', 'Feyenoord', 'Club Brugge KV', 'Shakhtar Donetsk',\n",
       "       'Vissel Kobe', 'Boca Juniors', '1. FC Union Berlin',\n",
       "       'Dalian YiFang FC', 'AS Saint-Étienne', 'Sassuolo',\n",
       "       'Tigres U.A.N.L.', 'Dinamo Zagreb', 'Dynamo Kyiv', 'Fluminense',\n",
       "       'Udinese', 'Aston Villa', 'Stade Rennais FC', 'Beşiktaş JK',\n",
       "       'Brighton & Hove Albion', 'Hebei China Fortune FC', 'Southampton',\n",
       "       'Lokomotiv Moscow', 'Jiangsu Suning FC', 'Al Hilal',\n",
       "       'West Bromwich Albion', 'Fenerbahçe SK', 'FC Groningen',\n",
       "       'Guangzhou R&F FC', 'Orlando City SC', 'Sampdoria',\n",
       "       'Stade de Reims', 'Sheffield United', 'Santos', 'Internacional',\n",
       "       'Coritiba', 'CA Osasuna', 'LA Galaxy', 'Al Nassr', 'SC Freiburg',\n",
       "       'SC Braga', 'Olympiacos CFP', 'Toronto FC', 'Granada CF',\n",
       "       'FC Schalke 04', 'RC Strasbourg Alsace', 'Hertha BSC',\n",
       "       'AZ Alkmaar', 'Seattle Sounders FC', 'Montpellier HSC',\n",
       "       'Shanghai Greenland Shenhua FC', 'Hamburger SV', 'Girona FC',\n",
       "       'Racing Club', 'Portland Timbers', 'FC Girondins de Bordeaux',\n",
       "       'Watford', 'Estudiantes de La Plata', 'Club América',\n",
       "       'Vitória Guimarães', 'SK Slavia Praha', 'Trabzonspor',\n",
       "       'RCD Espanyol', 'FC Nantes', 'Angers SCO', 'Cruz Azul',\n",
       "       'BSC Young Boys', 'Club León', 'Spartak Moscow', 'Sivasspor',\n",
       "       'Elche CF', 'FC Augsburg', 'Wuhan Zall', 'Parma',\n",
       "       'Royal Antwerp FC', 'Monterrey', 'San Lorenzo de Almagro',\n",
       "       'AC Monza', 'Club Atlético Lanús', 'SD Huesca', 'Derby County',\n",
       "       'Kayserispor', 'RSC Anderlecht', 'CD Leganés', 'Vélez Sarsfield',\n",
       "       'Stade Brestois 29', 'Tianjin TEDA FC', 'Birmingham City',\n",
       "       'Hellas Verona', '1. FC Köln', 'Al Wehda', 'Bournemouth',\n",
       "       'Alanyaspor', 'Bologna', 'Amiens SC', 'Celtic',\n",
       "       'Shijiazhuang Ever Bright F.C.', 'Club Atlas', 'Al Ahli',\n",
       "       'Norwich City', 'Fatih Karagümrük S.K.', 'Club Tijuana',\n",
       "       'Universidad Católica', 'Goiás', 'Benevento', 'Independiente',\n",
       "       'Qingdao Huanghai F.C.', 'Brentford', 'AEK Athens',\n",
       "       'Racing Club de Lens', 'Olimpia Asunción', 'Shenzhen FC',\n",
       "       'Çaykur Rizespor', 'KAA Gent', 'New England Revolution',\n",
       "       'Cádiz CF', '1. FSV Mainz 05', 'Vasco da Gama', 'FC Midtjylland',\n",
       "       'Al Ain FC', 'Santos Laguna', 'SPAL', 'Perth Glory', 'FC Utrecht',\n",
       "       'Montreal Impact', 'UD Almería', 'Fortaleza', 'Spezia',\n",
       "       'FC Basel 1893', 'FC København', 'Godoy Cruz', 'Deportivo Toluca',\n",
       "       'Nacional de Montevideo', 'Aalborg BK', 'Rio Ave FC', 'FC Metz',\n",
       "       'Chongqing Dangdai Lifan FC SWM Team', 'Rosenborg BK',\n",
       "       'FC Red Bull Salzburg', 'Botafogo', 'DSC Arminia Bielefeld',\n",
       "       'Club Athletico Paranaense', 'RCD Mallorca', 'Pachuca',\n",
       "       'Swansea City', 'KRC Genk', 'En Avant de Guingamp', 'Lecce',\n",
       "       'Nîmes Olympique', 'Colo-Colo', 'Stade Malherbe Caen',\n",
       "       'Columbus Crew SC', 'Junior FC', 'VfB Stuttgart', 'Moreirense FC',\n",
       "       'Rangers FC', 'Malmö FF', 'Shandong Luneng TaiShan FC',\n",
       "       'Sparta Praha', 'Hatayspor', 'Chicago Fire',\n",
       "       'Toulouse Football Club', 'FC Seoul', 'Antalyaspor',\n",
       "       'Deportivo Cali', 'Kaizer Chiefs', 'Real Zaragoza',\n",
       "       'Atlético Clube Goianiense', 'Puebla FC', 'Fortuna Düsseldorf',\n",
       "       'Western United FC', 'Astra Giurgiu', 'Henan Jianye FC', 'Bahia',\n",
       "       'Famalicão', 'Atiker Konyaspor', 'Peñarol', 'DC United',\n",
       "       'New York City FC', 'Argentinos Juniors', 'U.N.A.M.',\n",
       "       'Minnesota United FC', 'Nottingham Forest',\n",
       "       'Independiente del Valle', 'Defensa y Justicia',\n",
       "       'Philadelphia Union', \"Newell's Old Boys\", 'Rosario Central',\n",
       "       'Atlético de San Luis', 'FC Dallas', 'Denizlispor',\n",
       "       'Yeni Malatyaspor', 'Club Atlético Colón', 'Houston Dynamo',\n",
       "       'Millwall', 'Clube Sport Marítimo', 'MKE Ankaragücü',\n",
       "       'Guadalajara', 'Boavista FC', 'Sporting Kansas City',\n",
       "       'Atlético Nacional', 'CD Lugo', 'New York Red Bulls', 'PAOK',\n",
       "       'SC Heerenveen', 'Daegu FC', 'Preston North End', 'Damac FC',\n",
       "       'Brescia', 'VfL Bochum 1848', 'Vancouver Whitecaps FC',\n",
       "       'SV Sandhausen', 'Royal Excel Mouscron', 'Dijon FCO', 'Molde FK',\n",
       "       'Panathinaikos FC', 'LASK Linz', 'Ulsan Hyundai FC',\n",
       "       'Real Salt Lake', 'FC Luzern', 'Viktoria Plzeň', 'Orlando Pirates',\n",
       "       'Al Ittihad', '1. FC Nürnberg', 'Standard de Liège',\n",
       "       'Rayo Vallecano', 'Club Libertad', 'Jeonbuk Hyundai Motors',\n",
       "       'Western Sydney Wanderers', 'Unión de Santa Fe', 'FC Sion',\n",
       "       'Sydney FC', 'Hannover 96', 'Real Sporting de Gijón',\n",
       "       'FC Cincinnati', 'ESTAC Troyes', 'San Jose Earthquakes',\n",
       "       'Club Guaraní', 'FC Lorient', 'Gençlerbirliği SK',\n",
       "       'Sporting de Charleroi', 'Wisła Kraków', 'Al Taawoun', 'Reading',\n",
       "       'Gazişehir Gaziantep F.K.', 'Blackburn Rovers', 'Kashiwa Reysol',\n",
       "       'FK Bodø/Glimt', 'Willem II', 'Vitesse', 'Gil Vicente FC',\n",
       "       'SønderjyskE', 'Yokohama F. Marinos', 'FC St. Gallen',\n",
       "       'Club Atlético Aldosivi', 'Göztepe SK', 'Holstein Kiel',\n",
       "       'FC Juárez', 'FCSB (Steaua)', 'Ettifaq FC', 'KAS Eupen',\n",
       "       'FC Tokyo', 'Melbourne City FC', 'Universitatea Craiova',\n",
       "       'CD Tondela', 'Wolfsberger AC', 'Ceará Sporting Club',\n",
       "       'River Plate Asunción', 'Stoke City', 'Paris FC', 'IFK Norrköping',\n",
       "       'Crotone', 'Cardiff City', 'América de Cali', 'Al Faisaly',\n",
       "       'Independiente Medellín', 'Portimonense SC', 'CD Tenerife',\n",
       "       'Heracles Almelo', 'Nashville SC', 'SK Rapid Wien',\n",
       "       'Kawasaki Frontale', 'Club Necaxa', 'Chievo Verona', 'Lech Poznań',\n",
       "       'AIK', 'FK Austria Wien', 'Querétaro', '1. FC Heidenheim 1846',\n",
       "       'Legia Warszawa', 'Club Atlético Banfield', 'Os Belenenses',\n",
       "       'Huddersfield Town', 'KSV Cercle Brugge', 'LDU Quito',\n",
       "       'Gimnasia y Esgrima La Plata', 'Gamba Osaka', 'Middlesbrough',\n",
       "       'Servette FC', 'Empoli', 'Real Oviedo', 'Kasimpaşa SK', 'CFR Cluj',\n",
       "       'Millonarios FC', 'FC Paços de Ferreira', 'Sint-Truidense VV',\n",
       "       'AD Alcorcón', 'Colorado Rapids', 'Dinamo Bucureşti',\n",
       "       'Cerezo Osaka', 'FC Emmen', 'Sheffield Wednesday',\n",
       "       'FC Erzgebirge Aue', 'Raków Częstochowa', 'Atlético Tucumán',\n",
       "       'SV Darmstadt 98', 'Bristol City', 'Oud-Heverlee Leuven',\n",
       "       'Barnsley', 'Queens Park Rangers', 'Sangju Sangmu FC',\n",
       "       'Helsingborgs IF', 'AC Ajaccio', 'Oceânico FC',\n",
       "       'Club Atlético Talleres', 'Al Hazem', 'SC Paderborn 07',\n",
       "       'Club Atlético Huracán', 'KV Kortrijk', 'El Nacional',\n",
       "       'Mazatlán FC', 'Aberdeen', 'CD Mirandés', 'SV Zulte-Waregem',\n",
       "       'Piast Gliwice', 'Djurgårdens IF', 'Central Córdoba',\n",
       "       'Wellington Phoenix', 'Deportivo Binacional', 'Patronato',\n",
       "       'SpVgg Greuther Fürth', 'IFK Göteborg', 'FC Cartagena',\n",
       "       'Santa Clara', 'FC Twente', 'Farense', 'ADO Den Haag',\n",
       "       'AJ Auxerre', 'Al Fateh', 'Valenciennes FC',\n",
       "       'Hokkaido Consadole Sapporo', 'FC St. Pauli', 'Albacete BP',\n",
       "       '1. FC Kaiserslautern', 'Al Fayha', 'Incheon United FC',\n",
       "       'KV Mechelen', 'Pohang Steelers', 'CD Nacional', 'Unión La Calera',\n",
       "       'BB Erzurumspor', 'Kashima Antlers', 'Arsenal de Sarandí',\n",
       "       'HJK Helsinki', 'Karlsruher SC', 'Aarhus GF', 'FC Zürich',\n",
       "       'Barcelona Sporting Club', 'SG Dynamo Dresden',\n",
       "       'Sanfrecce Hiroshima', 'Al Raed', 'SD Ponferradina', 'Brøndby IF',\n",
       "       'Lechia Gdańsk', 'FC Viitorul', 'SK Sturm Graz', 'IF Elfsborg',\n",
       "       'Gangwon FC', 'Melgar FBC', 'Club Atlético Grau',\n",
       "       'Jagiellonia Białystok', 'Waasland-Beveren', 'VfL Osnabrück',\n",
       "       'Nagoya Grampus', 'CF Fuenlabrada', 'Shamrock Rovers',\n",
       "       'Shimizu S-Pulse', 'RKC Waalwijk', 'Vålerenga Fotball',\n",
       "       'Clermont Foot 63', 'FC Ingolstadt 04', 'FC Würzburger Kickers',\n",
       "       'Górnik Zabrze', 'Charlton Athletic', 'Beerschot AC',\n",
       "       'Coquimbo Unido', 'Viktoria Köln', 'Hull City', 'Málaga CF',\n",
       "       'FC Nordsjælland', 'UD Las Palmas', 'VVV-Venlo', 'GwangJu FC',\n",
       "       'Chamois Niortais Football Club', 'FC Lugano', 'Cusco FC',\n",
       "       'Sparta Rotterdam', 'Sol de América', 'PEC Zwolle',\n",
       "       'Pogoń Szczecin', 'Doncaster Rovers', 'Kristiansund BK',\n",
       "       'Liverpool Fútbol Club', 'Club Bolívar', 'Urawa Red Diamonds',\n",
       "       'SK Brann', 'Eintracht Braunschweig', 'Nacional Asunción',\n",
       "       'Melbourne Victory', 'Kilmarnock', 'Dundalk',\n",
       "       'SSV Jahn Regensburg', 'Abha Club', 'Club Atlético Tigre',\n",
       "       'Suwon Samsung Bluewings', 'Shonan Bellmare', 'SD Aucas', 'Emelec',\n",
       "       'Fortuna Sittard', 'La Berrichonne de Châteauroux',\n",
       "       'Śląsk Wrocław', 'Coventry City', 'Sunderland', 'Alianza Lima',\n",
       "       'Hammarby IF', 'Cracovia', 'CE Sabadell FC', 'Oita Trinita',\n",
       "       'BK Häcken', 'Luton Town', 'Le Havre AC', 'IK Sirius',\n",
       "       'Zagłębie Lubin', 'Grenoble Foot 38', 'Macarthur FC',\n",
       "       'Rodez Aveyron Football', 'Vegalta Sendai', 'Motherwell',\n",
       "       'SV Wehen Wiesbaden', 'Audax Italiano', 'Gaz Metan Mediaş',\n",
       "       'Portsmouth', 'Hibernian', 'Always Ready', 'UD Logroñés',\n",
       "       'FC Voluntari', 'FC Hermannstadt', 'AS Nancy Lorraine',\n",
       "       'Rotherham United', 'Fleetwood Town', 'Jorge Wilstermann',\n",
       "       'Odense Boldklub', 'MSV Duisburg', 'FC Sochaux-Montbéliard',\n",
       "       'Milton Keynes Dons', 'River Plate Montevideo', 'Delfín SC',\n",
       "       'Universidad Católica del Ecuador', 'Deportivo Pasto',\n",
       "       'KV Oostende', 'Club Plaza Colonia', 'Wigan Athletic',\n",
       "       'FC Botoşani', 'C.D. Castellón', 'SCR Altach', 'Örebro SK',\n",
       "       'TSV Hartberg', 'Stabæk Fotball', 'Wycombe Wanderers',\n",
       "       'St. Johnstone FC', 'Oxford United', 'Lincoln City', 'Randers FC',\n",
       "       'Viking FK', 'FC Chambly Oise', 'Dundee United',\n",
       "       'Oriente Petrolero', 'Odds BK', 'Nacional Potosí', 'Sepsi OSK',\n",
       "       'FC Hansa Rostock', 'Lyngby BK', 'SpVgg Unterhaching',\n",
       "       'Brisbane Roar', 'Seongnam FC', 'SV Ried', 'CD Huachipato',\n",
       "       'WSG Tirol', 'Podbeskidzie Bielsko-Biała', 'Peterborough United',\n",
       "       'Club Blooming', 'Wisła Płock', 'Busan IPark', 'FSV Zwickau',\n",
       "       'Mjøndalen IF', 'Vejle Boldklub', 'Pau FC', 'FC Lausanne-Sport',\n",
       "       'Estudiantes de Mérida', 'Sagan Tosu', 'SV Waldhof Mannheim',\n",
       "       'Sport Huancayo', 'Hallescher FC', 'Kalmar FF', 'St. Mirren',\n",
       "       'SKN St. Pölten', 'Sarpsborg 08 FF', 'Shrewsbury',\n",
       "       'TSV 1860 München', 'SV Meppen', 'Ipswich Town', 'IK Start',\n",
       "       'Adelaide United', 'Stal Mielec', 'Centro Atlético Fénix',\n",
       "       'Newcastle Jets', 'Livingston FC', 'AC Mineros de Guayana',\n",
       "       'AFC Wimbledon', 'Burton Albion', 'Al Adalah', 'Warta Poznań',\n",
       "       'USL Dunkerque', 'Bristol Rovers', 'UTA Arad', 'Östersunds FK',\n",
       "       'Sportivo Luqueño', 'Politehnica Iaşi', 'Salford City',\n",
       "       'Central Coast Mariners', 'Caracas FC', 'AC Horsens',\n",
       "       'Plymouth Argyle', 'Aalesunds FK', 'Crewe Alexandra',\n",
       "       'Chindia Târgovişte', 'Oldham Athletic', 'Yokohama FC',\n",
       "       'Blackpool', 'Northampton Town', 'Bayern München II',\n",
       "       'FK Haugesund', 'KFC Uerdingen 05', 'Forest Green Rovers',\n",
       "       'Cheltenham Town', 'Strømsgodset IF', 'Mjällby AIF', 'Exeter City',\n",
       "       'Cambridge United', 'Grimsby Town', 'FC Vaduz', 'Türkgücü München',\n",
       "       'VfB Lübeck', 'Bolton Wanderers', 'Bradford City',\n",
       "       '1. FC Magdeburg', 'FC Admira Wacker Mödling',\n",
       "       'Hamilton Academical FC', 'Aragua FC', 'Accrington Stanley',\n",
       "       'Swindon Town', 'Carlisle United', 'FC Argeș', 'Port Vale',\n",
       "       'Academica Clinceni', 'Rochdale', 'Gillingham', 'Tranmere Rovers',\n",
       "       'Southend United', '1. FC Saarbrücken', 'Colchester United',\n",
       "       'Mansfield Town', 'Falkenbergs FF', 'SC Verl', 'Varbergs BoIS',\n",
       "       'Crawley Town', 'Sandefjord Fotball', 'Newport County',\n",
       "       'Bohemian FC', 'Ross County FC', 'Scunthorpe United', 'Morecambe',\n",
       "       'Walsall', 'Leyton Orient', 'Stevenage', 'Barrow', 'Derry City',\n",
       "       'Llaneros de Guanare', 'Sligo Rovers', 'Zamora FC',\n",
       "       \"St. Patrick's Athletic\", 'Cork City', 'Shelbourne FC',\n",
       "       'Harrogate Town', 'Waterford FC', 'Finn Harps'], dtype=object)"
      ]
     },
     "execution_count": 16,
     "metadata": {},
     "output_type": "execute_result"
    }
   ],
   "source": [
    "fd['Club'].unique()"
   ]
  },
  {
   "cell_type": "markdown",
   "metadata": {},
   "source": [
    "# Renaming columns more appropraitely "
   ]
  },
  {
   "cell_type": "code",
   "execution_count": 17,
   "metadata": {},
   "outputs": [],
   "source": [
    "\n",
    "fd.rename(columns={'↓OVA':'OVA'}, inplace=True)\n",
    "fd.rename(columns={'LongName':'Full_name'}, inplace=True)"
   ]
  },
  {
   "cell_type": "code",
   "execution_count": 18,
   "metadata": {},
   "outputs": [
    {
     "data": {
      "text/html": [
       "<div>\n",
       "<style scoped>\n",
       "    .dataframe tbody tr th:only-of-type {\n",
       "        vertical-align: middle;\n",
       "    }\n",
       "\n",
       "    .dataframe tbody tr th {\n",
       "        vertical-align: top;\n",
       "    }\n",
       "\n",
       "    .dataframe thead th {\n",
       "        text-align: right;\n",
       "    }\n",
       "</style>\n",
       "<table border=\"1\" class=\"dataframe\">\n",
       "  <thead>\n",
       "    <tr style=\"text-align: right;\">\n",
       "      <th></th>\n",
       "      <th>ID</th>\n",
       "      <th>Full_name</th>\n",
       "      <th>photoUrl</th>\n",
       "      <th>Nationality</th>\n",
       "      <th>Age</th>\n",
       "      <th>OVA</th>\n",
       "      <th>POT</th>\n",
       "      <th>Club</th>\n",
       "      <th>Contract</th>\n",
       "      <th>Positions</th>\n",
       "      <th>...</th>\n",
       "      <th>A/W</th>\n",
       "      <th>D/W</th>\n",
       "      <th>IR</th>\n",
       "      <th>PAC</th>\n",
       "      <th>SHO</th>\n",
       "      <th>PAS</th>\n",
       "      <th>DRI</th>\n",
       "      <th>DEF</th>\n",
       "      <th>PHY</th>\n",
       "      <th>Hits</th>\n",
       "    </tr>\n",
       "  </thead>\n",
       "  <tbody>\n",
       "    <tr>\n",
       "      <th>0</th>\n",
       "      <td>158023</td>\n",
       "      <td>Lionel Messi</td>\n",
       "      <td>https://cdn.sofifa.com/players/158/023/21_60.png</td>\n",
       "      <td>Argentina</td>\n",
       "      <td>33</td>\n",
       "      <td>93</td>\n",
       "      <td>93</td>\n",
       "      <td>FC Barcelona</td>\n",
       "      <td>2004 ~ 2021</td>\n",
       "      <td>RW, ST, CF</td>\n",
       "      <td>...</td>\n",
       "      <td>Medium</td>\n",
       "      <td>Low</td>\n",
       "      <td>5 ★</td>\n",
       "      <td>85</td>\n",
       "      <td>92</td>\n",
       "      <td>91</td>\n",
       "      <td>95</td>\n",
       "      <td>38</td>\n",
       "      <td>65</td>\n",
       "      <td>771</td>\n",
       "    </tr>\n",
       "  </tbody>\n",
       "</table>\n",
       "<p>1 rows × 74 columns</p>\n",
       "</div>"
      ],
      "text/plain": [
       "       ID     Full_name                                          photoUrl  \\\n",
       "0  158023  Lionel Messi  https://cdn.sofifa.com/players/158/023/21_60.png   \n",
       "\n",
       "  Nationality  Age  OVA  POT          Club     Contract   Positions  ...  \\\n",
       "0   Argentina   33   93   93  FC Barcelona  2004 ~ 2021  RW, ST, CF  ...   \n",
       "\n",
       "      A/W  D/W   IR  PAC SHO PAS DRI DEF PHY  Hits  \n",
       "0  Medium  Low  5 ★   85  92  91  95  38  65   771  \n",
       "\n",
       "[1 rows x 74 columns]"
      ]
     },
     "execution_count": 18,
     "metadata": {},
     "output_type": "execute_result"
    }
   ],
   "source": [
    "fd.head(1)"
   ]
  },
  {
   "cell_type": "markdown",
   "metadata": {},
   "source": [
    "# Checking the contract column"
   ]
  },
  {
   "cell_type": "code",
   "execution_count": 19,
   "metadata": {},
   "outputs": [
    {
     "data": {
      "text/plain": [
       "array(['2004 ~ 2021', '2018 ~ 2022', '2014 ~ 2023', '2015 ~ 2023',\n",
       "       '2017 ~ 2022', '2017 ~ 2023', '2018 ~ 2024', '2014 ~ 2022',\n",
       "       '2018 ~ 2023', '2016 ~ 2023', '2013 ~ 2023', '2011 ~ 2023',\n",
       "       '2009 ~ 2022', '2005 ~ 2021', '2011 ~ 2021', '2015 ~ 2022',\n",
       "       '2017 ~ 2024', '2010 ~ 2024', '2012 ~ 2021', '2019 ~ 2024',\n",
       "       '2015 ~ 2024', '2017 ~ 2025', '2020 ~ 2025', '2019 ~ 2023',\n",
       "       '2008 ~ 2023', '2015 ~ 2021', '2020 ~ 2022', '2012 ~ 2022',\n",
       "       '2016 ~ 2025', '2013 ~ 2022', '2011 ~ 2022', '2012 ~ 2024',\n",
       "       '2016 ~ 2021', '2012 ~ 2023', '2008 ~ 2022', '2019 ~ 2022',\n",
       "       '2017 ~ 2021', '2013 ~ 2024', '2020 ~ 2024', '2010 ~ 2022',\n",
       "       '2020 ~ 2021', '2011 ~ 2024', '2020 ~ 2023', '2014 ~ 2024',\n",
       "       '2013 ~ 2026', '2016 ~ 2022', '2010 ~ 2021', '2013 ~ 2021',\n",
       "       '2019 ~ 2025', '2018 ~ 2025', '2016 ~ 2024', '2018 ~ 2021',\n",
       "       '2009 ~ 2024', '2007 ~ 2022', 'Jun 30, 2021 On Loan',\n",
       "       '2009 ~ 2021', '2019 ~ 2021', '2019 ~ 2026', 'Free', '2012 ~ 2028',\n",
       "       '2010 ~ 2023', '2014 ~ 2021', '2015 ~ 2025', '2014 ~ 2026',\n",
       "       '2012 ~ 2025', '2017 ~ 2020', '2002 ~ 2022', '2020 ~ 2027',\n",
       "       '2013 ~ 2025', 'Dec 31, 2020 On Loan', '2019 ~ 2020',\n",
       "       '2011 ~ 2025', '2016 ~ 2020', '2007 ~ 2021', '2020 ~ 2026',\n",
       "       '2010 ~ 2025', '2009 ~ 2023', '2008 ~ 2021', '2020 ~ 2020',\n",
       "       '2016 ~ 2026', 'Jan 30, 2021 On Loan', '2012 ~ 2020',\n",
       "       '2014 ~ 2025', 'Jun 30, 2022 On Loan', '2015 ~ 2020',\n",
       "       'May 31, 2021 On Loan', '2018 ~ 2020', '2014 ~ 2020',\n",
       "       '2013 ~ 2020', '2006 ~ 2024', 'Jul 5, 2021 On Loan',\n",
       "       'Dec 31, 2021 On Loan', '2004 ~ 2025', '2011 ~ 2020',\n",
       "       'Jul 1, 2021 On Loan', 'Jan 1, 2021 On Loan', '2006 ~ 2023',\n",
       "       'Aug 31, 2021 On Loan', '2006 ~ 2021', '2005 ~ 2023',\n",
       "       '2003 ~ 2020', '2009 ~ 2020', '2002 ~ 2020', '2005 ~ 2020',\n",
       "       '2005 ~ 2022', 'Jan 31, 2021 On Loan', '2010 ~ 2020',\n",
       "       'Dec 30, 2021 On Loan', '2008 ~ 2020', '2007 ~ 2020',\n",
       "       '2003 ~ 2021', 'Jun 23, 2021 On Loan', 'Jan 3, 2021 On Loan',\n",
       "       'Nov 27, 2021 On Loan', '2002 ~ 2021', 'Jan 17, 2021 On Loan',\n",
       "       'Jun 30, 2023 On Loan', '1998 ~ 2021', '2003 ~ 2022',\n",
       "       '2007 ~ 2023', 'Jul 31, 2021 On Loan', 'Nov 22, 2020 On Loan',\n",
       "       'May 31, 2022 On Loan', '2006 ~ 2020', 'Dec 30, 2020 On Loan',\n",
       "       '2007 ~ 2025', 'Jan 4, 2021 On Loan', 'Nov 30, 2020 On Loan',\n",
       "       '2004 ~ 2020', '2009 ~ 2025', 'Aug 1, 2021 On Loan'], dtype=object)"
      ]
     },
     "execution_count": 19,
     "metadata": {},
     "output_type": "execute_result"
    }
   ],
   "source": [
    "fd['Contract'].unique()"
   ]
  },
  {
   "cell_type": "markdown",
   "metadata": {},
   "source": [
    "From the contract column, we can see that there are different categories of data. some players are on contract, some players \n",
    "are on loan , while some players are neither on loan nor on contract.\n",
    "I will change it to a categorical data.\n",
    "If player is on loan it will return \"On loan\", if on contract it\n",
    "will return \"Contract_Active\", if player is not on contract it will return \"No contract\""
   ]
  },
  {
   "cell_type": "markdown",
   "metadata": {},
   "source": [
    "# Work on the contract column & Change column name"
   ]
  },
  {
   "cell_type": "code",
   "execution_count": 20,
   "metadata": {},
   "outputs": [],
   "source": [
    "def contract(x):\n",
    "    if 'On Loan' in x:\n",
    "        return 'On Loan'\n",
    "    elif'~' in x:\n",
    "        return 'Contract_active'\n",
    "    elif 'Free' in x:\n",
    "        return 'Free'\n",
    "        "
   ]
  },
  {
   "cell_type": "code",
   "execution_count": 21,
   "metadata": {},
   "outputs": [],
   "source": [
    "fd['Contract']=fd['Contract'].apply(contract)"
   ]
  },
  {
   "cell_type": "code",
   "execution_count": 22,
   "metadata": {},
   "outputs": [
    {
     "data": {
      "text/plain": [
       "array(['Contract_active', 'On Loan', 'Free'], dtype=object)"
      ]
     },
     "execution_count": 22,
     "metadata": {},
     "output_type": "execute_result"
    }
   ],
   "source": [
    "fd['Contract'].unique()"
   ]
  },
  {
   "cell_type": "markdown",
   "metadata": {},
   "source": [
    "# Rename the contract column"
   ]
  },
  {
   "cell_type": "code",
   "execution_count": 23,
   "metadata": {},
   "outputs": [],
   "source": [
    "fd.rename(columns={'Contract':'Contract_status'}, inplace=True)\n"
   ]
  },
  {
   "cell_type": "code",
   "execution_count": 24,
   "metadata": {},
   "outputs": [
    {
     "data": {
      "text/html": [
       "<div>\n",
       "<style scoped>\n",
       "    .dataframe tbody tr th:only-of-type {\n",
       "        vertical-align: middle;\n",
       "    }\n",
       "\n",
       "    .dataframe tbody tr th {\n",
       "        vertical-align: top;\n",
       "    }\n",
       "\n",
       "    .dataframe thead th {\n",
       "        text-align: right;\n",
       "    }\n",
       "</style>\n",
       "<table border=\"1\" class=\"dataframe\">\n",
       "  <thead>\n",
       "    <tr style=\"text-align: right;\">\n",
       "      <th></th>\n",
       "      <th>Full_name</th>\n",
       "      <th>photoUrl</th>\n",
       "      <th>Nationality</th>\n",
       "      <th>Age</th>\n",
       "      <th>OVA</th>\n",
       "      <th>POT</th>\n",
       "      <th>Club</th>\n",
       "      <th>Contract_status</th>\n",
       "      <th>Positions</th>\n",
       "      <th>Height</th>\n",
       "      <th>Weight</th>\n",
       "      <th>Preferred Foot</th>\n",
       "      <th>BOV</th>\n",
       "      <th>Best Position</th>\n",
       "      <th>Joined</th>\n",
       "      <th>Value</th>\n",
       "      <th>Wage</th>\n",
       "      <th>Release Clause</th>\n",
       "      <th>Attacking</th>\n",
       "      <th>Crossing</th>\n",
       "    </tr>\n",
       "  </thead>\n",
       "  <tbody>\n",
       "    <tr>\n",
       "      <th>0</th>\n",
       "      <td>Lionel Messi</td>\n",
       "      <td>https://cdn.sofifa.com/players/158/023/21_60.png</td>\n",
       "      <td>Argentina</td>\n",
       "      <td>33</td>\n",
       "      <td>93</td>\n",
       "      <td>93</td>\n",
       "      <td>FC Barcelona</td>\n",
       "      <td>Contract_active</td>\n",
       "      <td>RW, ST, CF</td>\n",
       "      <td>170cm</td>\n",
       "      <td>72kg</td>\n",
       "      <td>Left</td>\n",
       "      <td>93</td>\n",
       "      <td>RW</td>\n",
       "      <td>2004-07-01</td>\n",
       "      <td>€103.5M</td>\n",
       "      <td>€560K</td>\n",
       "      <td>€138.4M</td>\n",
       "      <td>429</td>\n",
       "      <td>85</td>\n",
       "    </tr>\n",
       "    <tr>\n",
       "      <th>1</th>\n",
       "      <td>C. Ronaldo dos Santos Aveiro</td>\n",
       "      <td>https://cdn.sofifa.com/players/020/801/21_60.png</td>\n",
       "      <td>Portugal</td>\n",
       "      <td>35</td>\n",
       "      <td>92</td>\n",
       "      <td>92</td>\n",
       "      <td>Juventus</td>\n",
       "      <td>Contract_active</td>\n",
       "      <td>ST, LW</td>\n",
       "      <td>187cm</td>\n",
       "      <td>83kg</td>\n",
       "      <td>Right</td>\n",
       "      <td>92</td>\n",
       "      <td>ST</td>\n",
       "      <td>2018-07-10</td>\n",
       "      <td>€63M</td>\n",
       "      <td>€220K</td>\n",
       "      <td>€75.9M</td>\n",
       "      <td>437</td>\n",
       "      <td>84</td>\n",
       "    </tr>\n",
       "    <tr>\n",
       "      <th>2</th>\n",
       "      <td>Jan Oblak</td>\n",
       "      <td>https://cdn.sofifa.com/players/200/389/21_60.png</td>\n",
       "      <td>Slovenia</td>\n",
       "      <td>27</td>\n",
       "      <td>91</td>\n",
       "      <td>93</td>\n",
       "      <td>Atlético Madrid</td>\n",
       "      <td>Contract_active</td>\n",
       "      <td>GK</td>\n",
       "      <td>188cm</td>\n",
       "      <td>87kg</td>\n",
       "      <td>Right</td>\n",
       "      <td>91</td>\n",
       "      <td>GK</td>\n",
       "      <td>2014-07-16</td>\n",
       "      <td>€120M</td>\n",
       "      <td>€125K</td>\n",
       "      <td>€159.4M</td>\n",
       "      <td>95</td>\n",
       "      <td>13</td>\n",
       "    </tr>\n",
       "    <tr>\n",
       "      <th>3</th>\n",
       "      <td>Kevin De Bruyne</td>\n",
       "      <td>https://cdn.sofifa.com/players/192/985/21_60.png</td>\n",
       "      <td>Belgium</td>\n",
       "      <td>29</td>\n",
       "      <td>91</td>\n",
       "      <td>91</td>\n",
       "      <td>Manchester City</td>\n",
       "      <td>Contract_active</td>\n",
       "      <td>CAM, CM</td>\n",
       "      <td>181cm</td>\n",
       "      <td>70kg</td>\n",
       "      <td>Right</td>\n",
       "      <td>91</td>\n",
       "      <td>CAM</td>\n",
       "      <td>2015-08-30</td>\n",
       "      <td>€129M</td>\n",
       "      <td>€370K</td>\n",
       "      <td>€161M</td>\n",
       "      <td>407</td>\n",
       "      <td>94</td>\n",
       "    </tr>\n",
       "    <tr>\n",
       "      <th>4</th>\n",
       "      <td>Neymar da Silva Santos Jr.</td>\n",
       "      <td>https://cdn.sofifa.com/players/190/871/21_60.png</td>\n",
       "      <td>Brazil</td>\n",
       "      <td>28</td>\n",
       "      <td>91</td>\n",
       "      <td>91</td>\n",
       "      <td>Paris Saint-Germain</td>\n",
       "      <td>Contract_active</td>\n",
       "      <td>LW, CAM</td>\n",
       "      <td>175cm</td>\n",
       "      <td>68kg</td>\n",
       "      <td>Right</td>\n",
       "      <td>91</td>\n",
       "      <td>LW</td>\n",
       "      <td>2017-08-03</td>\n",
       "      <td>€132M</td>\n",
       "      <td>€270K</td>\n",
       "      <td>€166.5M</td>\n",
       "      <td>408</td>\n",
       "      <td>85</td>\n",
       "    </tr>\n",
       "    <tr>\n",
       "      <th>5</th>\n",
       "      <td>Robert Lewandowski</td>\n",
       "      <td>https://cdn.sofifa.com/players/188/545/21_60.png</td>\n",
       "      <td>Poland</td>\n",
       "      <td>31</td>\n",
       "      <td>91</td>\n",
       "      <td>91</td>\n",
       "      <td>FC Bayern München</td>\n",
       "      <td>Contract_active</td>\n",
       "      <td>ST</td>\n",
       "      <td>184cm</td>\n",
       "      <td>80kg</td>\n",
       "      <td>Right</td>\n",
       "      <td>91</td>\n",
       "      <td>ST</td>\n",
       "      <td>2014-07-01</td>\n",
       "      <td>€111M</td>\n",
       "      <td>€240K</td>\n",
       "      <td>€132M</td>\n",
       "      <td>423</td>\n",
       "      <td>71</td>\n",
       "    </tr>\n",
       "  </tbody>\n",
       "</table>\n",
       "</div>"
      ],
      "text/plain": [
       "                      Full_name  \\\n",
       "0                  Lionel Messi   \n",
       "1  C. Ronaldo dos Santos Aveiro   \n",
       "2                     Jan Oblak   \n",
       "3               Kevin De Bruyne   \n",
       "4    Neymar da Silva Santos Jr.   \n",
       "5            Robert Lewandowski   \n",
       "\n",
       "                                           photoUrl Nationality  Age  OVA  \\\n",
       "0  https://cdn.sofifa.com/players/158/023/21_60.png   Argentina   33   93   \n",
       "1  https://cdn.sofifa.com/players/020/801/21_60.png    Portugal   35   92   \n",
       "2  https://cdn.sofifa.com/players/200/389/21_60.png    Slovenia   27   91   \n",
       "3  https://cdn.sofifa.com/players/192/985/21_60.png     Belgium   29   91   \n",
       "4  https://cdn.sofifa.com/players/190/871/21_60.png      Brazil   28   91   \n",
       "5  https://cdn.sofifa.com/players/188/545/21_60.png      Poland   31   91   \n",
       "\n",
       "   POT                 Club  Contract_status   Positions Height Weight  \\\n",
       "0   93         FC Barcelona  Contract_active  RW, ST, CF  170cm   72kg   \n",
       "1   92             Juventus  Contract_active      ST, LW  187cm   83kg   \n",
       "2   93      Atlético Madrid  Contract_active          GK  188cm   87kg   \n",
       "3   91      Manchester City  Contract_active     CAM, CM  181cm   70kg   \n",
       "4   91  Paris Saint-Germain  Contract_active     LW, CAM  175cm   68kg   \n",
       "5   91    FC Bayern München  Contract_active          ST  184cm   80kg   \n",
       "\n",
       "  Preferred Foot  BOV Best Position     Joined    Value   Wage Release Clause  \\\n",
       "0           Left   93            RW 2004-07-01  €103.5M  €560K        €138.4M   \n",
       "1          Right   92            ST 2018-07-10     €63M  €220K         €75.9M   \n",
       "2          Right   91            GK 2014-07-16    €120M  €125K        €159.4M   \n",
       "3          Right   91           CAM 2015-08-30    €129M  €370K          €161M   \n",
       "4          Right   91            LW 2017-08-03    €132M  €270K        €166.5M   \n",
       "5          Right   91            ST 2014-07-01    €111M  €240K          €132M   \n",
       "\n",
       "   Attacking  Crossing  \n",
       "0        429        85  \n",
       "1        437        84  \n",
       "2         95        13  \n",
       "3        407        94  \n",
       "4        408        85  \n",
       "5        423        71  "
      ]
     },
     "execution_count": 24,
     "metadata": {},
     "output_type": "execute_result"
    }
   ],
   "source": [
    "fd.iloc[:6,1:21]"
   ]
  },
  {
   "cell_type": "markdown",
   "metadata": {},
   "source": [
    "# cleaning the height and weight columns"
   ]
  },
  {
   "cell_type": "code",
   "execution_count": 25,
   "metadata": {},
   "outputs": [
    {
     "data": {
      "text/plain": [
       "array(['170cm', '187cm', '188cm', '181cm', '175cm', '184cm', '191cm',\n",
       "       '178cm', '193cm', '185cm', '199cm', '173cm', '168cm', '176cm',\n",
       "       '177cm', '183cm', '180cm', '189cm', '179cm', '195cm', '172cm',\n",
       "       '182cm', '186cm', '192cm', '165cm', '194cm', '167cm', '196cm',\n",
       "       '163cm', '190cm', '174cm', '169cm', '171cm', '197cm', '200cm',\n",
       "       '166cm', '6\\'2\"', '164cm', '198cm', '6\\'3\"', '6\\'5\"', '5\\'11\"',\n",
       "       '6\\'4\"', '6\\'1\"', '6\\'0\"', '5\\'10\"', '5\\'9\"', '5\\'6\"', '5\\'7\"',\n",
       "       '5\\'4\"', '201cm', '158cm', '162cm', '161cm', '160cm', '203cm',\n",
       "       '157cm', '156cm', '202cm', '159cm', '206cm', '155cm'], dtype=object)"
      ]
     },
     "execution_count": 25,
     "metadata": {},
     "output_type": "execute_result"
    }
   ],
   "source": [
    "fd['Height'].unique()"
   ]
  },
  {
   "cell_type": "code",
   "execution_count": 26,
   "metadata": {},
   "outputs": [],
   "source": [
    "def conv_height(x):\n",
    "    if x[-1]=='\"':\n",
    "        x=x.replace(\"\\\"\",\"\")\n",
    "        inch=int(x[2:])*2.54\n",
    "        foot=int(x[0])*30.48\n",
    "        return int(foot+inch)\n",
    "    elif x[-1]=='m':\n",
    "        return int(x[:-2])\n",
    "    "
   ]
  },
  {
   "cell_type": "code",
   "execution_count": 27,
   "metadata": {},
   "outputs": [],
   "source": [
    "fd['Height']=fd['Height'].apply(conv_height)"
   ]
  },
  {
   "cell_type": "code",
   "execution_count": 28,
   "metadata": {},
   "outputs": [
    {
     "data": {
      "text/plain": [
       "array([170, 187, 188, 181, 175, 184, 191, 178, 193, 185, 199, 173, 168,\n",
       "       176, 177, 183, 180, 189, 179, 195, 172, 182, 186, 192, 165, 194,\n",
       "       167, 196, 163, 190, 174, 169, 171, 197, 200, 166, 164, 198, 162,\n",
       "       201, 158, 161, 160, 203, 157, 156, 202, 159, 206, 155], dtype=int64)"
      ]
     },
     "execution_count": 28,
     "metadata": {},
     "output_type": "execute_result"
    }
   ],
   "source": [
    "fd['Height'].unique()"
   ]
  },
  {
   "cell_type": "code",
   "execution_count": 29,
   "metadata": {},
   "outputs": [
    {
     "data": {
      "text/plain": [
       "50"
      ]
     },
     "execution_count": 29,
     "metadata": {},
     "output_type": "execute_result"
    }
   ],
   "source": [
    "fd['Height'].nunique()"
   ]
  },
  {
   "cell_type": "code",
   "execution_count": 30,
   "metadata": {},
   "outputs": [],
   "source": [
    "def conv_weight(x):\n",
    "    if x[-1]=='\"':\n",
    "        x=x.replace(\"\\\"\",\"\")\n",
    "        inch=int(x[2:])*2.54\n",
    "        foot=int(x[0])*30.48\n",
    "        return int(foot+inch)\n",
    "    elif x[-1]=='m':\n",
    "        return int(x[:-2])\n",
    "    "
   ]
  },
  {
   "cell_type": "code",
   "execution_count": 31,
   "metadata": {},
   "outputs": [],
   "source": [
    "fd.rename(columns={'Height':'Height(cm)'}, inplace= True)"
   ]
  },
  {
   "cell_type": "code",
   "execution_count": 32,
   "metadata": {},
   "outputs": [
    {
     "data": {
      "text/html": [
       "<div>\n",
       "<style scoped>\n",
       "    .dataframe tbody tr th:only-of-type {\n",
       "        vertical-align: middle;\n",
       "    }\n",
       "\n",
       "    .dataframe tbody tr th {\n",
       "        vertical-align: top;\n",
       "    }\n",
       "\n",
       "    .dataframe thead th {\n",
       "        text-align: right;\n",
       "    }\n",
       "</style>\n",
       "<table border=\"1\" class=\"dataframe\">\n",
       "  <thead>\n",
       "    <tr style=\"text-align: right;\">\n",
       "      <th></th>\n",
       "      <th>ID</th>\n",
       "      <th>Full_name</th>\n",
       "      <th>photoUrl</th>\n",
       "      <th>Nationality</th>\n",
       "      <th>Age</th>\n",
       "      <th>OVA</th>\n",
       "      <th>POT</th>\n",
       "      <th>Club</th>\n",
       "      <th>Contract_status</th>\n",
       "      <th>Positions</th>\n",
       "      <th>...</th>\n",
       "      <th>A/W</th>\n",
       "      <th>D/W</th>\n",
       "      <th>IR</th>\n",
       "      <th>PAC</th>\n",
       "      <th>SHO</th>\n",
       "      <th>PAS</th>\n",
       "      <th>DRI</th>\n",
       "      <th>DEF</th>\n",
       "      <th>PHY</th>\n",
       "      <th>Hits</th>\n",
       "    </tr>\n",
       "  </thead>\n",
       "  <tbody>\n",
       "    <tr>\n",
       "      <th>0</th>\n",
       "      <td>158023</td>\n",
       "      <td>Lionel Messi</td>\n",
       "      <td>https://cdn.sofifa.com/players/158/023/21_60.png</td>\n",
       "      <td>Argentina</td>\n",
       "      <td>33</td>\n",
       "      <td>93</td>\n",
       "      <td>93</td>\n",
       "      <td>FC Barcelona</td>\n",
       "      <td>Contract_active</td>\n",
       "      <td>RW, ST, CF</td>\n",
       "      <td>...</td>\n",
       "      <td>Medium</td>\n",
       "      <td>Low</td>\n",
       "      <td>5 ★</td>\n",
       "      <td>85</td>\n",
       "      <td>92</td>\n",
       "      <td>91</td>\n",
       "      <td>95</td>\n",
       "      <td>38</td>\n",
       "      <td>65</td>\n",
       "      <td>771</td>\n",
       "    </tr>\n",
       "  </tbody>\n",
       "</table>\n",
       "<p>1 rows × 74 columns</p>\n",
       "</div>"
      ],
      "text/plain": [
       "       ID     Full_name                                          photoUrl  \\\n",
       "0  158023  Lionel Messi  https://cdn.sofifa.com/players/158/023/21_60.png   \n",
       "\n",
       "  Nationality  Age  OVA  POT          Club  Contract_status   Positions  ...  \\\n",
       "0   Argentina   33   93   93  FC Barcelona  Contract_active  RW, ST, CF  ...   \n",
       "\n",
       "      A/W  D/W   IR  PAC SHO PAS DRI DEF PHY  Hits  \n",
       "0  Medium  Low  5 ★   85  92  91  95  38  65   771  \n",
       "\n",
       "[1 rows x 74 columns]"
      ]
     },
     "execution_count": 32,
     "metadata": {},
     "output_type": "execute_result"
    }
   ],
   "source": [
    "fd.head(1)"
   ]
  },
  {
   "cell_type": "code",
   "execution_count": 33,
   "metadata": {},
   "outputs": [],
   "source": [
    "#fd['Height']=fd['Height'].str.replace('cm','').astype(int)\n",
    "#fd['Weight']=fd['Weight'].str.replace('kg','').astype(int)\n",
    "\n"
   ]
  },
  {
   "cell_type": "code",
   "execution_count": 34,
   "metadata": {},
   "outputs": [
    {
     "data": {
      "text/plain": [
       "array(['72kg', '83kg', '87kg', '70kg', '68kg', '80kg', '71kg', '91kg',\n",
       "       '73kg', '85kg', '92kg', '69kg', '84kg', '96kg', '81kg', '82kg',\n",
       "       '75kg', '86kg', '89kg', '74kg', '76kg', '64kg', '78kg', '90kg',\n",
       "       '66kg', '60kg', '94kg', '79kg', '67kg', '65kg', '59kg', '61kg',\n",
       "       '93kg', '88kg', '97kg', '77kg', '62kg', '63kg', '95kg', '100kg',\n",
       "       '58kg', '183lbs', '179lbs', '172lbs', '196lbs', '176lbs', '185lbs',\n",
       "       '170lbs', '203lbs', '168lbs', '161lbs', '146lbs', '130lbs',\n",
       "       '190lbs', '174lbs', '148lbs', '165lbs', '159lbs', '192lbs',\n",
       "       '181lbs', '139lbs', '154lbs', '157lbs', '163lbs', '98kg', '103kg',\n",
       "       '99kg', '102kg', '56kg', '101kg', '57kg', '55kg', '104kg', '107kg',\n",
       "       '110kg', '53kg', '50kg', '54kg', '52kg'], dtype=object)"
      ]
     },
     "execution_count": 34,
     "metadata": {},
     "output_type": "execute_result"
    }
   ],
   "source": [
    "fd['Weight'].unique()"
   ]
  },
  {
   "cell_type": "code",
   "execution_count": 35,
   "metadata": {},
   "outputs": [],
   "source": [
    "def conv_weight(y):\n",
    "    if 'lbs'in y:\n",
    "        y=y.replace('lbs','')\n",
    "        y=float(y)*0.453592\n",
    "        y=int(y)\n",
    "        return y\n",
    "    else:\n",
    "        return int(y[:-2])\n",
    "    "
   ]
  },
  {
   "cell_type": "code",
   "execution_count": 36,
   "metadata": {},
   "outputs": [],
   "source": [
    "fd['Weight']=fd['Weight'].apply(conv_weight)"
   ]
  },
  {
   "cell_type": "code",
   "execution_count": 37,
   "metadata": {},
   "outputs": [
    {
     "data": {
      "text/plain": [
       "array([ 72,  83,  87,  70,  68,  80,  71,  91,  73,  85,  92,  69,  84,\n",
       "        96,  81,  82,  75,  86,  89,  74,  76,  64,  78,  90,  66,  60,\n",
       "        94,  79,  67,  65,  59,  61,  93,  88,  97,  77,  62,  63,  95,\n",
       "       100,  58,  98, 103,  99, 102,  56, 101,  57,  55, 104, 107, 110,\n",
       "        53,  50,  54,  52], dtype=int64)"
      ]
     },
     "execution_count": 37,
     "metadata": {},
     "output_type": "execute_result"
    }
   ],
   "source": [
    "fd['Weight'].unique()"
   ]
  },
  {
   "cell_type": "code",
   "execution_count": 38,
   "metadata": {},
   "outputs": [],
   "source": [
    "fd.rename(columns={'Weight':'Weight(kg)'},inplace=True)"
   ]
  },
  {
   "cell_type": "markdown",
   "metadata": {},
   "source": [
    "# Checking other columns"
   ]
  },
  {
   "cell_type": "code",
   "execution_count": 39,
   "metadata": {},
   "outputs": [
    {
     "data": {
      "text/plain": [
       "array(['Left', 'Right'], dtype=object)"
      ]
     },
     "execution_count": 39,
     "metadata": {},
     "output_type": "execute_result"
    }
   ],
   "source": [
    "#Preferred foot column is okay\n",
    "fd['Preferred Foot'].unique()"
   ]
  },
  {
   "cell_type": "code",
   "execution_count": 40,
   "metadata": {},
   "outputs": [
    {
     "data": {
      "text/plain": [
       "array([93, 92, 91, 90, 89, 88, 87, 86, 85, 84, 83, 82, 81, 80, 79, 78, 77,\n",
       "       76, 75, 74, 73, 72, 71, 70, 69, 68, 67, 66, 65, 64, 63, 62, 61, 60,\n",
       "       59, 58, 57, 56, 55, 54, 53, 52, 51, 50, 49, 48], dtype=int64)"
      ]
     },
     "execution_count": 40,
     "metadata": {},
     "output_type": "execute_result"
    }
   ],
   "source": [
    "#BOV, Best Position, Attacking, crossing, Finishing, Head Accuracy, Short Passing, Volleys, Skill columns are okay\n",
    "fd['BOV'].unique()"
   ]
  },
  {
   "cell_type": "code",
   "execution_count": 41,
   "metadata": {},
   "outputs": [
    {
     "data": {
      "text/plain": [
       "array(['RW', 'ST', 'GK', 'CAM', 'LW', 'CB', 'CDM', 'CF', 'CM', 'RB', 'LB',\n",
       "       'LM', 'RM', 'LWB', 'RWB'], dtype=object)"
      ]
     },
     "execution_count": 41,
     "metadata": {},
     "output_type": "execute_result"
    }
   ],
   "source": [
    "fd['Best Position'].unique()"
   ]
  },
  {
   "cell_type": "code",
   "execution_count": 42,
   "metadata": {},
   "outputs": [
    {
     "data": {
      "text/plain": [
       "array([429, 437,  95, 407, 408, 423, 392, 114, 118, 316, 410, 349,  86,\n",
       "       119, 426, 374, 411, 360, 328, 383, 405, 123, 420, 224, 388, 397,\n",
       "       425, 373, 365, 371, 311, 396, 345, 399, 400,  78, 280, 330, 403,\n",
       "       379, 380,  94, 394, 419, 339, 293, 344, 390,  84, 359, 372, 377,\n",
       "       346, 389, 386, 308, 277, 382, 368, 402, 292, 298, 366, 352, 363,\n",
       "       322, 361,  91, 364, 341, 385, 355, 305, 321, 262,  93, 375, 387,\n",
       "       356, 253, 285, 391, 353, 367,  90, 295, 378, 256, 338, 331,  69,\n",
       "       105,  85, 358, 343, 319, 271, 113, 350, 406, 340, 393, 247, 334,\n",
       "       351, 342, 302, 329, 354,  98, 301, 115, 384, 208,  72, 376,  92,\n",
       "       258, 362,  74, 417,  99, 263,  88, 279, 101, 395, 100,  81,  87,\n",
       "        55, 310,  82, 117, 409, 318, 323, 248, 315, 381, 348, 327, 309,\n",
       "       130, 283, 336, 369, 106, 252, 320, 290, 370, 126, 251, 108, 335,\n",
       "       297, 284,  80,  75, 357, 270,  97, 306, 337,  73, 286, 325, 326,\n",
       "       324, 333, 103, 259, 273, 313, 296,  61, 312, 347, 401, 304, 278,\n",
       "        83,  43, 314, 291, 264, 272, 317, 231, 250, 268,  54, 261, 255,\n",
       "        70, 281, 265, 299, 287,  68, 294,  77, 219, 300, 269, 332, 289,\n",
       "       288, 107, 282, 122, 244,  89, 112, 274, 276, 307, 229,  96, 109,\n",
       "        76, 125, 102, 239, 227, 241, 257, 254, 228, 233, 124, 215, 246,\n",
       "       110, 245, 214, 242, 266, 104,  66, 303, 260,  63, 230, 275,  50,\n",
       "       238, 249, 111,  67, 240, 221, 237,  56, 235, 234, 243, 267, 232,\n",
       "       203, 223,  64, 213, 222, 226, 225, 211, 207,  52, 173,  57, 217,\n",
       "       236,  71, 204, 216, 199,  59, 189,  60, 194, 116, 205, 201, 193,\n",
       "        65, 192, 209, 218, 128, 210,  79,  45, 206, 162, 220,  49, 197,\n",
       "       202, 212,  58, 190, 181,  51,  62, 200, 198, 195, 191, 131, 185,\n",
       "        42, 180, 182, 196, 188, 169, 187, 178,  53, 183, 184, 186, 165,\n",
       "       172,  47, 171, 176, 159,  46, 179, 175, 167, 174, 161, 170, 177,\n",
       "       164, 134, 168, 163, 166, 158, 150, 143,  48, 152, 160, 148, 151,\n",
       "       157, 154, 141, 146, 147, 149, 156, 153, 138, 145, 142, 139, 155,\n",
       "       144, 136, 137], dtype=int64)"
      ]
     },
     "execution_count": 42,
     "metadata": {},
     "output_type": "execute_result"
    }
   ],
   "source": [
    "fd['Attacking'].unique()"
   ]
  },
  {
   "cell_type": "code",
   "execution_count": 43,
   "metadata": {},
   "outputs": [
    {
     "data": {
      "text/plain": [
       "array([95, 11, 82, 87, 94, 91, 13, 14, 52, 90, 64, 88, 65, 85, 66, 84, 10,\n",
       "       22, 76, 81, 56, 79, 57, 45, 77, 63, 86, 80, 15, 33, 67, 12, 72, 92,\n",
       "       93, 51, 46, 60, 75, 55, 73, 83, 50, 42, 39, 40,  9, 68, 48, 37, 70,\n",
       "       78, 69,  8, 53, 89, 25, 62, 71, 74, 44, 26, 19, 32, 18, 61, 58, 30,\n",
       "       54, 36, 29, 16, 38, 59, 27, 34, 47, 20, 31, 49, 43, 41, 28,  5,  7,\n",
       "        6, 21, 17, 35, 23, 24,  4,  3], dtype=int64)"
      ]
     },
     "execution_count": 43,
     "metadata": {},
     "output_type": "execute_result"
    }
   ],
   "source": [
    "fd['Finishing'].unique()"
   ]
  },
  {
   "cell_type": "code",
   "execution_count": 44,
   "metadata": {},
   "outputs": [
    {
     "data": {
      "text/plain": [
       "array([88, 86, 13, 82, 87, 89, 79, 20, 83, 14, 45, 75, 63, 12, 11, 69, 67,\n",
       "       56, 18, 85, 62, 70, 32, 40, 47, 81, 44, 84, 78, 76, 90, 49, 42, 64,\n",
       "       57, 60,  8, 72, 71, 59, 74, 80, 73, 37, 31, 38, 61, 10, 77, 68, 58,\n",
       "       66, 30, 33, 65, 27, 51, 15, 16, 50, 43, 35, 24, 17, 34, 28,  9, 39,\n",
       "       52, 46, 22, 19, 53, 55, 48, 54, 23,  5, 41, 25, 21, 36, 26, 29,  6,\n",
       "        7,  4,  3], dtype=int64)"
      ]
     },
     "execution_count": 44,
     "metadata": {},
     "output_type": "execute_result"
    }
   ],
   "source": [
    "fd['Volleys'].unique()"
   ]
  },
  {
   "cell_type": "code",
   "execution_count": 45,
   "metadata": {},
   "outputs": [
    {
     "data": {
      "text/html": [
       "<div>\n",
       "<style scoped>\n",
       "    .dataframe tbody tr th:only-of-type {\n",
       "        vertical-align: middle;\n",
       "    }\n",
       "\n",
       "    .dataframe tbody tr th {\n",
       "        vertical-align: top;\n",
       "    }\n",
       "\n",
       "    .dataframe thead th {\n",
       "        text-align: right;\n",
       "    }\n",
       "</style>\n",
       "<table border=\"1\" class=\"dataframe\">\n",
       "  <thead>\n",
       "    <tr style=\"text-align: right;\">\n",
       "      <th></th>\n",
       "      <th>Height(cm)</th>\n",
       "      <th>Weight(kg)</th>\n",
       "      <th>Preferred Foot</th>\n",
       "      <th>BOV</th>\n",
       "      <th>Best Position</th>\n",
       "      <th>Joined</th>\n",
       "      <th>Value</th>\n",
       "      <th>Wage</th>\n",
       "      <th>Release Clause</th>\n",
       "      <th>Attacking</th>\n",
       "      <th>Crossing</th>\n",
       "      <th>Finishing</th>\n",
       "      <th>Heading Accuracy</th>\n",
       "      <th>Short Passing</th>\n",
       "      <th>Volleys</th>\n",
       "    </tr>\n",
       "  </thead>\n",
       "  <tbody>\n",
       "    <tr>\n",
       "      <th>0</th>\n",
       "      <td>170</td>\n",
       "      <td>72</td>\n",
       "      <td>Left</td>\n",
       "      <td>93</td>\n",
       "      <td>RW</td>\n",
       "      <td>2004-07-01</td>\n",
       "      <td>€103.5M</td>\n",
       "      <td>€560K</td>\n",
       "      <td>€138.4M</td>\n",
       "      <td>429</td>\n",
       "      <td>85</td>\n",
       "      <td>95</td>\n",
       "      <td>70</td>\n",
       "      <td>91</td>\n",
       "      <td>88</td>\n",
       "    </tr>\n",
       "    <tr>\n",
       "      <th>1</th>\n",
       "      <td>187</td>\n",
       "      <td>83</td>\n",
       "      <td>Right</td>\n",
       "      <td>92</td>\n",
       "      <td>ST</td>\n",
       "      <td>2018-07-10</td>\n",
       "      <td>€63M</td>\n",
       "      <td>€220K</td>\n",
       "      <td>€75.9M</td>\n",
       "      <td>437</td>\n",
       "      <td>84</td>\n",
       "      <td>95</td>\n",
       "      <td>90</td>\n",
       "      <td>82</td>\n",
       "      <td>86</td>\n",
       "    </tr>\n",
       "    <tr>\n",
       "      <th>2</th>\n",
       "      <td>188</td>\n",
       "      <td>87</td>\n",
       "      <td>Right</td>\n",
       "      <td>91</td>\n",
       "      <td>GK</td>\n",
       "      <td>2014-07-16</td>\n",
       "      <td>€120M</td>\n",
       "      <td>€125K</td>\n",
       "      <td>€159.4M</td>\n",
       "      <td>95</td>\n",
       "      <td>13</td>\n",
       "      <td>11</td>\n",
       "      <td>15</td>\n",
       "      <td>43</td>\n",
       "      <td>13</td>\n",
       "    </tr>\n",
       "    <tr>\n",
       "      <th>3</th>\n",
       "      <td>181</td>\n",
       "      <td>70</td>\n",
       "      <td>Right</td>\n",
       "      <td>91</td>\n",
       "      <td>CAM</td>\n",
       "      <td>2015-08-30</td>\n",
       "      <td>€129M</td>\n",
       "      <td>€370K</td>\n",
       "      <td>€161M</td>\n",
       "      <td>407</td>\n",
       "      <td>94</td>\n",
       "      <td>82</td>\n",
       "      <td>55</td>\n",
       "      <td>94</td>\n",
       "      <td>82</td>\n",
       "    </tr>\n",
       "    <tr>\n",
       "      <th>4</th>\n",
       "      <td>175</td>\n",
       "      <td>68</td>\n",
       "      <td>Right</td>\n",
       "      <td>91</td>\n",
       "      <td>LW</td>\n",
       "      <td>2017-08-03</td>\n",
       "      <td>€132M</td>\n",
       "      <td>€270K</td>\n",
       "      <td>€166.5M</td>\n",
       "      <td>408</td>\n",
       "      <td>85</td>\n",
       "      <td>87</td>\n",
       "      <td>62</td>\n",
       "      <td>87</td>\n",
       "      <td>87</td>\n",
       "    </tr>\n",
       "  </tbody>\n",
       "</table>\n",
       "</div>"
      ],
      "text/plain": [
       "   Height(cm)  Weight(kg) Preferred Foot  BOV Best Position     Joined  \\\n",
       "0         170          72           Left   93            RW 2004-07-01   \n",
       "1         187          83          Right   92            ST 2018-07-10   \n",
       "2         188          87          Right   91            GK 2014-07-16   \n",
       "3         181          70          Right   91           CAM 2015-08-30   \n",
       "4         175          68          Right   91            LW 2017-08-03   \n",
       "\n",
       "     Value   Wage Release Clause  Attacking  Crossing  Finishing  \\\n",
       "0  €103.5M  €560K        €138.4M        429        85         95   \n",
       "1     €63M  €220K         €75.9M        437        84         95   \n",
       "2    €120M  €125K        €159.4M         95        13         11   \n",
       "3    €129M  €370K          €161M        407        94         82   \n",
       "4    €132M  €270K        €166.5M        408        85         87   \n",
       "\n",
       "   Heading Accuracy  Short Passing  Volleys  \n",
       "0                70             91       88  \n",
       "1                90             82       86  \n",
       "2                15             43       13  \n",
       "3                55             94       82  \n",
       "4                62             87       87  "
      ]
     },
     "execution_count": 45,
     "metadata": {},
     "output_type": "execute_result"
    }
   ],
   "source": [
    "fd.iloc[:,10:25].head()"
   ]
  },
  {
   "cell_type": "code",
   "execution_count": 46,
   "metadata": {},
   "outputs": [
    {
     "data": {
      "text/html": [
       "<div>\n",
       "<style scoped>\n",
       "    .dataframe tbody tr th:only-of-type {\n",
       "        vertical-align: middle;\n",
       "    }\n",
       "\n",
       "    .dataframe tbody tr th {\n",
       "        vertical-align: top;\n",
       "    }\n",
       "\n",
       "    .dataframe thead th {\n",
       "        text-align: right;\n",
       "    }\n",
       "</style>\n",
       "<table border=\"1\" class=\"dataframe\">\n",
       "  <thead>\n",
       "    <tr style=\"text-align: right;\">\n",
       "      <th></th>\n",
       "      <th>Dribbling</th>\n",
       "      <th>Curve</th>\n",
       "      <th>FK Accuracy</th>\n",
       "      <th>Long Passing</th>\n",
       "      <th>Ball Control</th>\n",
       "      <th>Movement</th>\n",
       "      <th>Acceleration</th>\n",
       "      <th>Sprint Speed</th>\n",
       "      <th>Agility</th>\n",
       "      <th>Reactions</th>\n",
       "      <th>Balance</th>\n",
       "      <th>Power</th>\n",
       "      <th>Shot Power</th>\n",
       "      <th>Jumping</th>\n",
       "    </tr>\n",
       "  </thead>\n",
       "  <tbody>\n",
       "    <tr>\n",
       "      <th>0</th>\n",
       "      <td>96</td>\n",
       "      <td>93</td>\n",
       "      <td>94</td>\n",
       "      <td>91</td>\n",
       "      <td>96</td>\n",
       "      <td>451</td>\n",
       "      <td>91</td>\n",
       "      <td>80</td>\n",
       "      <td>91</td>\n",
       "      <td>94</td>\n",
       "      <td>95</td>\n",
       "      <td>389</td>\n",
       "      <td>86</td>\n",
       "      <td>68</td>\n",
       "    </tr>\n",
       "    <tr>\n",
       "      <th>1</th>\n",
       "      <td>88</td>\n",
       "      <td>81</td>\n",
       "      <td>76</td>\n",
       "      <td>77</td>\n",
       "      <td>92</td>\n",
       "      <td>431</td>\n",
       "      <td>87</td>\n",
       "      <td>91</td>\n",
       "      <td>87</td>\n",
       "      <td>95</td>\n",
       "      <td>71</td>\n",
       "      <td>444</td>\n",
       "      <td>94</td>\n",
       "      <td>95</td>\n",
       "    </tr>\n",
       "    <tr>\n",
       "      <th>2</th>\n",
       "      <td>12</td>\n",
       "      <td>13</td>\n",
       "      <td>14</td>\n",
       "      <td>40</td>\n",
       "      <td>30</td>\n",
       "      <td>307</td>\n",
       "      <td>43</td>\n",
       "      <td>60</td>\n",
       "      <td>67</td>\n",
       "      <td>88</td>\n",
       "      <td>49</td>\n",
       "      <td>268</td>\n",
       "      <td>59</td>\n",
       "      <td>78</td>\n",
       "    </tr>\n",
       "    <tr>\n",
       "      <th>3</th>\n",
       "      <td>88</td>\n",
       "      <td>85</td>\n",
       "      <td>83</td>\n",
       "      <td>93</td>\n",
       "      <td>92</td>\n",
       "      <td>398</td>\n",
       "      <td>77</td>\n",
       "      <td>76</td>\n",
       "      <td>78</td>\n",
       "      <td>91</td>\n",
       "      <td>76</td>\n",
       "      <td>408</td>\n",
       "      <td>91</td>\n",
       "      <td>63</td>\n",
       "    </tr>\n",
       "    <tr>\n",
       "      <th>4</th>\n",
       "      <td>95</td>\n",
       "      <td>88</td>\n",
       "      <td>89</td>\n",
       "      <td>81</td>\n",
       "      <td>95</td>\n",
       "      <td>453</td>\n",
       "      <td>94</td>\n",
       "      <td>89</td>\n",
       "      <td>96</td>\n",
       "      <td>91</td>\n",
       "      <td>83</td>\n",
       "      <td>357</td>\n",
       "      <td>80</td>\n",
       "      <td>62</td>\n",
       "    </tr>\n",
       "    <tr>\n",
       "      <th>5</th>\n",
       "      <td>85</td>\n",
       "      <td>79</td>\n",
       "      <td>85</td>\n",
       "      <td>70</td>\n",
       "      <td>88</td>\n",
       "      <td>407</td>\n",
       "      <td>77</td>\n",
       "      <td>78</td>\n",
       "      <td>77</td>\n",
       "      <td>93</td>\n",
       "      <td>82</td>\n",
       "      <td>420</td>\n",
       "      <td>89</td>\n",
       "      <td>84</td>\n",
       "    </tr>\n",
       "  </tbody>\n",
       "</table>\n",
       "</div>"
      ],
      "text/plain": [
       "   Dribbling  Curve  FK Accuracy  Long Passing  Ball Control  Movement  \\\n",
       "0         96     93           94            91            96       451   \n",
       "1         88     81           76            77            92       431   \n",
       "2         12     13           14            40            30       307   \n",
       "3         88     85           83            93            92       398   \n",
       "4         95     88           89            81            95       453   \n",
       "5         85     79           85            70            88       407   \n",
       "\n",
       "   Acceleration  Sprint Speed  Agility  Reactions  Balance  Power  Shot Power  \\\n",
       "0            91            80       91         94       95    389          86   \n",
       "1            87            91       87         95       71    444          94   \n",
       "2            43            60       67         88       49    268          59   \n",
       "3            77            76       78         91       76    408          91   \n",
       "4            94            89       96         91       83    357          80   \n",
       "5            77            78       77         93       82    420          89   \n",
       "\n",
       "   Jumping  \n",
       "0       68  \n",
       "1       95  \n",
       "2       78  \n",
       "3       63  \n",
       "4       62  \n",
       "5       84  "
      ]
     },
     "execution_count": 46,
     "metadata": {},
     "output_type": "execute_result"
    }
   ],
   "source": [
    "fd.iloc[:,26:40].head(6)"
   ]
  },
  {
   "cell_type": "code",
   "execution_count": 47,
   "metadata": {
    "scrolled": true
   },
   "outputs": [
    {
     "data": {
      "text/html": [
       "<div>\n",
       "<style scoped>\n",
       "    .dataframe tbody tr th:only-of-type {\n",
       "        vertical-align: middle;\n",
       "    }\n",
       "\n",
       "    .dataframe tbody tr th {\n",
       "        vertical-align: top;\n",
       "    }\n",
       "\n",
       "    .dataframe thead th {\n",
       "        text-align: right;\n",
       "    }\n",
       "</style>\n",
       "<table border=\"1\" class=\"dataframe\">\n",
       "  <thead>\n",
       "    <tr style=\"text-align: right;\">\n",
       "      <th></th>\n",
       "      <th>Strength</th>\n",
       "      <th>Long Shots</th>\n",
       "      <th>Mentality</th>\n",
       "      <th>Aggression</th>\n",
       "      <th>Interceptions</th>\n",
       "      <th>Positioning</th>\n",
       "      <th>Vision</th>\n",
       "      <th>Penalties</th>\n",
       "      <th>Composure</th>\n",
       "      <th>Defending</th>\n",
       "      <th>...</th>\n",
       "      <th>A/W</th>\n",
       "      <th>D/W</th>\n",
       "      <th>IR</th>\n",
       "      <th>PAC</th>\n",
       "      <th>SHO</th>\n",
       "      <th>PAS</th>\n",
       "      <th>DRI</th>\n",
       "      <th>DEF</th>\n",
       "      <th>PHY</th>\n",
       "      <th>Hits</th>\n",
       "    </tr>\n",
       "  </thead>\n",
       "  <tbody>\n",
       "    <tr>\n",
       "      <th>0</th>\n",
       "      <td>69</td>\n",
       "      <td>94</td>\n",
       "      <td>347</td>\n",
       "      <td>44</td>\n",
       "      <td>40</td>\n",
       "      <td>93</td>\n",
       "      <td>95</td>\n",
       "      <td>75</td>\n",
       "      <td>96</td>\n",
       "      <td>91</td>\n",
       "      <td>...</td>\n",
       "      <td>Medium</td>\n",
       "      <td>Low</td>\n",
       "      <td>5 ★</td>\n",
       "      <td>85</td>\n",
       "      <td>92</td>\n",
       "      <td>91</td>\n",
       "      <td>95</td>\n",
       "      <td>38</td>\n",
       "      <td>65</td>\n",
       "      <td>771</td>\n",
       "    </tr>\n",
       "    <tr>\n",
       "      <th>1</th>\n",
       "      <td>78</td>\n",
       "      <td>93</td>\n",
       "      <td>353</td>\n",
       "      <td>63</td>\n",
       "      <td>29</td>\n",
       "      <td>95</td>\n",
       "      <td>82</td>\n",
       "      <td>84</td>\n",
       "      <td>95</td>\n",
       "      <td>84</td>\n",
       "      <td>...</td>\n",
       "      <td>High</td>\n",
       "      <td>Low</td>\n",
       "      <td>5 ★</td>\n",
       "      <td>89</td>\n",
       "      <td>93</td>\n",
       "      <td>81</td>\n",
       "      <td>89</td>\n",
       "      <td>35</td>\n",
       "      <td>77</td>\n",
       "      <td>562</td>\n",
       "    </tr>\n",
       "    <tr>\n",
       "      <th>2</th>\n",
       "      <td>78</td>\n",
       "      <td>12</td>\n",
       "      <td>140</td>\n",
       "      <td>34</td>\n",
       "      <td>19</td>\n",
       "      <td>11</td>\n",
       "      <td>65</td>\n",
       "      <td>11</td>\n",
       "      <td>68</td>\n",
       "      <td>57</td>\n",
       "      <td>...</td>\n",
       "      <td>Medium</td>\n",
       "      <td>Medium</td>\n",
       "      <td>3 ★</td>\n",
       "      <td>87</td>\n",
       "      <td>92</td>\n",
       "      <td>78</td>\n",
       "      <td>90</td>\n",
       "      <td>52</td>\n",
       "      <td>90</td>\n",
       "      <td>150</td>\n",
       "    </tr>\n",
       "    <tr>\n",
       "      <th>3</th>\n",
       "      <td>74</td>\n",
       "      <td>91</td>\n",
       "      <td>408</td>\n",
       "      <td>76</td>\n",
       "      <td>66</td>\n",
       "      <td>88</td>\n",
       "      <td>94</td>\n",
       "      <td>84</td>\n",
       "      <td>91</td>\n",
       "      <td>186</td>\n",
       "      <td>...</td>\n",
       "      <td>High</td>\n",
       "      <td>High</td>\n",
       "      <td>4 ★</td>\n",
       "      <td>76</td>\n",
       "      <td>86</td>\n",
       "      <td>93</td>\n",
       "      <td>88</td>\n",
       "      <td>64</td>\n",
       "      <td>78</td>\n",
       "      <td>207</td>\n",
       "    </tr>\n",
       "    <tr>\n",
       "      <th>4</th>\n",
       "      <td>50</td>\n",
       "      <td>84</td>\n",
       "      <td>356</td>\n",
       "      <td>51</td>\n",
       "      <td>36</td>\n",
       "      <td>87</td>\n",
       "      <td>90</td>\n",
       "      <td>92</td>\n",
       "      <td>93</td>\n",
       "      <td>94</td>\n",
       "      <td>...</td>\n",
       "      <td>High</td>\n",
       "      <td>Medium</td>\n",
       "      <td>5 ★</td>\n",
       "      <td>91</td>\n",
       "      <td>85</td>\n",
       "      <td>86</td>\n",
       "      <td>94</td>\n",
       "      <td>36</td>\n",
       "      <td>59</td>\n",
       "      <td>595</td>\n",
       "    </tr>\n",
       "  </tbody>\n",
       "</table>\n",
       "<p>5 rows × 33 columns</p>\n",
       "</div>"
      ],
      "text/plain": [
       "   Strength  Long Shots  Mentality  Aggression  Interceptions  Positioning  \\\n",
       "0        69          94        347          44             40           93   \n",
       "1        78          93        353          63             29           95   \n",
       "2        78          12        140          34             19           11   \n",
       "3        74          91        408          76             66           88   \n",
       "4        50          84        356          51             36           87   \n",
       "\n",
       "   Vision  Penalties  Composure  Defending  ...     A/W     D/W   IR  PAC  \\\n",
       "0      95         75         96         91  ...  Medium     Low  5 ★   85   \n",
       "1      82         84         95         84  ...    High     Low  5 ★   89   \n",
       "2      65         11         68         57  ...  Medium  Medium  3 ★   87   \n",
       "3      94         84         91        186  ...    High    High  4 ★   76   \n",
       "4      90         92         93         94  ...    High  Medium  5 ★   91   \n",
       "\n",
       "   SHO  PAS  DRI  DEF  PHY  Hits  \n",
       "0   92   91   95   38   65   771  \n",
       "1   93   81   89   35   77   562  \n",
       "2   92   78   90   52   90   150  \n",
       "3   86   93   88   64   78   207  \n",
       "4   85   86   94   36   59   595  \n",
       "\n",
       "[5 rows x 33 columns]"
      ]
     },
     "execution_count": 47,
     "metadata": {},
     "output_type": "execute_result"
    }
   ],
   "source": [
    "fd.iloc[:,41:].head()"
   ]
  },
  {
   "cell_type": "code",
   "execution_count": 48,
   "metadata": {},
   "outputs": [
    {
     "data": {
      "text/plain": [
       "array(['Medium', 'High', 'Low'], dtype=object)"
      ]
     },
     "execution_count": 48,
     "metadata": {},
     "output_type": "execute_result"
    }
   ],
   "source": [
    "fd['A/W'].unique()"
   ]
  },
  {
   "cell_type": "code",
   "execution_count": 49,
   "metadata": {},
   "outputs": [
    {
     "data": {
      "text/plain": [
       "array(['Low', 'Medium', 'High'], dtype=object)"
      ]
     },
     "execution_count": 49,
     "metadata": {},
     "output_type": "execute_result"
    }
   ],
   "source": [
    "fd['D/W'].unique()"
   ]
  },
  {
   "cell_type": "code",
   "execution_count": 50,
   "metadata": {},
   "outputs": [
    {
     "name": "stdout",
     "output_type": "stream",
     "text": [
      "<class 'pandas.core.frame.DataFrame'>\n",
      "RangeIndex: 18979 entries, 0 to 18978\n",
      "Data columns (total 33 columns):\n",
      " #   Column           Non-Null Count  Dtype \n",
      "---  ------           --------------  ----- \n",
      " 0   Strength         18979 non-null  int64 \n",
      " 1   Long Shots       18979 non-null  int64 \n",
      " 2   Mentality        18979 non-null  int64 \n",
      " 3   Aggression       18979 non-null  int64 \n",
      " 4   Interceptions    18979 non-null  int64 \n",
      " 5   Positioning      18979 non-null  int64 \n",
      " 6   Vision           18979 non-null  int64 \n",
      " 7   Penalties        18979 non-null  int64 \n",
      " 8   Composure        18979 non-null  int64 \n",
      " 9   Defending        18979 non-null  int64 \n",
      " 10  Marking          18979 non-null  int64 \n",
      " 11  Standing Tackle  18979 non-null  int64 \n",
      " 12  Sliding Tackle   18979 non-null  int64 \n",
      " 13  Goalkeeping      18979 non-null  int64 \n",
      " 14  GK Diving        18979 non-null  int64 \n",
      " 15  GK Handling      18979 non-null  int64 \n",
      " 16  GK Kicking       18979 non-null  int64 \n",
      " 17  GK Positioning   18979 non-null  int64 \n",
      " 18  GK Reflexes      18979 non-null  int64 \n",
      " 19  Total Stats      18979 non-null  int64 \n",
      " 20  Base Stats       18979 non-null  int64 \n",
      " 21  W/F              18979 non-null  object\n",
      " 22  SM               18979 non-null  object\n",
      " 23  A/W              18979 non-null  object\n",
      " 24  D/W              18979 non-null  object\n",
      " 25  IR               18979 non-null  object\n",
      " 26  PAC              18979 non-null  int64 \n",
      " 27  SHO              18979 non-null  int64 \n",
      " 28  PAS              18979 non-null  int64 \n",
      " 29  DRI              18979 non-null  int64 \n",
      " 30  DEF              18979 non-null  int64 \n",
      " 31  PHY              18979 non-null  int64 \n",
      " 32  Hits             18979 non-null  object\n",
      "dtypes: int64(27), object(6)\n",
      "memory usage: 4.8+ MB\n"
     ]
    }
   ],
   "source": [
    "fd.iloc[:,41:].info()"
   ]
  },
  {
   "cell_type": "markdown",
   "metadata": {},
   "source": [
    "# Let us clean the Value, Wage and Release Clause\t"
   ]
  },
  {
   "cell_type": "code",
   "execution_count": 51,
   "metadata": {},
   "outputs": [],
   "source": [
    "fd['Value']=fd['Value'].str.strip('€')"
   ]
  },
  {
   "cell_type": "code",
   "execution_count": 52,
   "metadata": {},
   "outputs": [],
   "source": [
    "fd['Value']=fd['Value'].astype(str)\n",
    "\n",
    "def val(b):\n",
    "    if 'K' in b:\n",
    "        b= b.replace('K','')\n",
    "        b= float(b)\n",
    "        b=int(b)*1000\n",
    "        return b\n",
    "    elif 'M' in b:\n",
    "        b=b.replace('M','')\n",
    "        b=float(b)\n",
    "        b=int(b)*1000000\n",
    "        return b\n",
    "    else:\n",
    "        b=b\n",
    "        return b\n",
    "        \n",
    "fd['Value']=fd['Value'].apply(val)"
   ]
  },
  {
   "cell_type": "code",
   "execution_count": 53,
   "metadata": {
    "scrolled": true
   },
   "outputs": [
    {
     "data": {
      "text/plain": [
       "0    103000000\n",
       "1     63000000\n",
       "2    120000000\n",
       "3    129000000\n",
       "4    132000000\n",
       "Name: Value, dtype: object"
      ]
     },
     "execution_count": 53,
     "metadata": {},
     "output_type": "execute_result"
    }
   ],
   "source": [
    "fd['Value'].head()"
   ]
  },
  {
   "cell_type": "code",
   "execution_count": 54,
   "metadata": {},
   "outputs": [],
   "source": [
    "fd['Wage']=fd['Wage'].str.strip('€')\n",
    "fd['Wage']=fd['Wage'].astype(str)\n",
    "fd['Wage']=fd['Wage'].apply(val)\n"
   ]
  },
  {
   "cell_type": "code",
   "execution_count": 55,
   "metadata": {},
   "outputs": [],
   "source": [
    "fd['Release Clause']=fd['Release Clause'].str.strip('€')\n",
    "fd['Release Clause']=fd['Release Clause'].astype(str)\n",
    "fd['Release Clause']=fd['Release Clause'].apply(val)"
   ]
  },
  {
   "cell_type": "code",
   "execution_count": 56,
   "metadata": {},
   "outputs": [
    {
     "data": {
      "text/plain": [
       "0    138000000\n",
       "1     75000000\n",
       "2    159000000\n",
       "3    161000000\n",
       "4    166000000\n",
       "Name: Release Clause, dtype: object"
      ]
     },
     "execution_count": 56,
     "metadata": {},
     "output_type": "execute_result"
    }
   ],
   "source": [
    "fd['Release Clause'].head()"
   ]
  },
  {
   "cell_type": "markdown",
   "metadata": {},
   "source": [
    "# Change Value, Wage and Release Clause columns to int datatypes"
   ]
  },
  {
   "cell_type": "code",
   "execution_count": 57,
   "metadata": {},
   "outputs": [],
   "source": [
    "fd['Release Clause']=pd.to_numeric(fd['Release Clause'], errors='coerce')\n",
    "#fd['Wage']=fd['Wage'].astype('Int64')\n",
    "#fd['Value']=fd['Value'].astype('Int64')"
   ]
  },
  {
   "cell_type": "code",
   "execution_count": 58,
   "metadata": {},
   "outputs": [
    {
     "data": {
      "text/plain": [
       "0    138000000.0\n",
       "1     75000000.0\n",
       "2    159000000.0\n",
       "3    161000000.0\n",
       "4    166000000.0\n",
       "Name: Release Clause, dtype: float64"
      ]
     },
     "execution_count": 58,
     "metadata": {},
     "output_type": "execute_result"
    }
   ],
   "source": [
    "fd['Release Clause'].head()"
   ]
  },
  {
   "cell_type": "code",
   "execution_count": 59,
   "metadata": {},
   "outputs": [
    {
     "data": {
      "text/plain": [
       "1261"
      ]
     },
     "execution_count": 59,
     "metadata": {},
     "output_type": "execute_result"
    }
   ],
   "source": [
    "fd['Release Clause'].isnull().sum()"
   ]
  },
  {
   "cell_type": "code",
   "execution_count": 60,
   "metadata": {},
   "outputs": [
    {
     "data": {
      "text/plain": [
       "0    560000\n",
       "1    220000\n",
       "2    125000\n",
       "3    370000\n",
       "4    270000\n",
       "Name: Wage, dtype: object"
      ]
     },
     "execution_count": 60,
     "metadata": {},
     "output_type": "execute_result"
    }
   ],
   "source": [
    "fd['Wage'].head()"
   ]
  },
  {
   "cell_type": "code",
   "execution_count": 61,
   "metadata": {},
   "outputs": [
    {
     "data": {
      "text/plain": [
       "0    103000000\n",
       "1     63000000\n",
       "2    120000000\n",
       "3    129000000\n",
       "4    132000000\n",
       "Name: Value, dtype: object"
      ]
     },
     "execution_count": 61,
     "metadata": {},
     "output_type": "execute_result"
    }
   ],
   "source": [
    "fd['Value'].head()"
   ]
  },
  {
   "cell_type": "raw",
   "metadata": {},
   "source": [
    "fd['value']=pd.to_numeric(fd['Value'], errors='coerce')\n",
    "fd['Wage']=pd.to_numeric(fd['Wage'], errors='coerce')\n",
    "fd['Release Clause']=pd.to_numeric(fd['Release Clause'], errors='coerce')"
   ]
  },
  {
   "cell_type": "raw",
   "metadata": {},
   "source": [
    "fd['Wage']=fd['Wage'].astype(str)\n",
    "\n",
    "def val(b):\n",
    "    if 'K' in b:\n",
    "        b= b.replace('K','')\n",
    "        b= float(b)\n",
    "        b=int(b)*1000\n",
    "        return b\n",
    "    else:\n",
    "        b=b\n",
    "        return b\n",
    "        \n",
    "        \n",
    "fd['Wage']=fd['Wage'].apply(val)\n",
    "        "
   ]
  },
  {
   "cell_type": "code",
   "execution_count": 62,
   "metadata": {},
   "outputs": [
    {
     "data": {
      "text/plain": [
       "0    560000\n",
       "1    220000\n",
       "2    125000\n",
       "3    370000\n",
       "4    270000\n",
       "Name: Wage, dtype: object"
      ]
     },
     "execution_count": 62,
     "metadata": {},
     "output_type": "execute_result"
    }
   ],
   "source": [
    "fd['Wage'].head()"
   ]
  },
  {
   "cell_type": "code",
   "execution_count": 63,
   "metadata": {},
   "outputs": [],
   "source": [
    "fd['Wage']=pd.to_numeric(fd['Wage'], errors='coerce')"
   ]
  },
  {
   "cell_type": "code",
   "execution_count": 64,
   "metadata": {},
   "outputs": [
    {
     "data": {
      "text/plain": [
       "array([1.38e+08, 7.50e+07, 1.59e+08, 1.61e+08, 1.66e+08, 1.32e+08,\n",
       "       1.44e+08, 1.20e+08, 2.03e+08, 1.47e+08, 1.45e+08, 1.22e+08,\n",
       "       1.19e+08, 4.70e+07, 1.08e+08, 5.00e+07, 9.80e+07, 1.39e+08,\n",
       "       9.60e+07, 1.12e+08, 1.03e+08, 1.40e+08, 2.70e+07, 8.50e+07,\n",
       "       1.18e+08, 1.15e+08, 1.02e+08, 1.07e+08, 1.24e+08, 1.04e+08,\n",
       "       9.90e+07, 2.50e+07, 7.70e+07, 5.60e+07, 7.20e+07, 6.40e+07,\n",
       "       5.10e+07, 8.20e+07, 6.90e+07, 5.90e+07, 5.30e+07, 4.30e+07,\n",
       "       4.80e+07, 5.80e+07, 6.50e+07, 6.70e+07, 8.40e+07, 8.70e+07,\n",
       "       9.50e+07, 9.10e+07, 7.90e+07, 1.11e+08, 7.80e+07, 8.10e+07,\n",
       "       8.80e+07, 8.60e+07, 9.40e+07, 9.70e+07, 6.30e+07, 5.40e+07,\n",
       "       2.10e+07, 6.60e+07, 5.20e+07, 6.80e+07, 4.40e+07, 2.90e+07,\n",
       "       4.00e+07, 2.40e+07, 5.70e+07, 7.60e+07, 7.10e+07, 6.10e+07,\n",
       "       7.30e+07, 7.00e+07, 3.80e+07, 6.20e+07, 4.20e+07, 3.20e+07,\n",
       "       4.50e+07, 1.70e+07, 4.60e+07, 2.80e+07, 3.60e+07, 3.70e+07,\n",
       "       2.30e+07, 4.90e+07, 6.00e+07, 5.50e+07, 3.10e+07, 3.50e+07,\n",
       "       1.80e+07, 4.10e+07, 3.30e+07, 3.90e+07, 3.40e+07,      nan,\n",
       "       1.30e+07, 1.60e+07, 3.00e+07, 3.00e+06, 1.90e+07, 2.60e+07,\n",
       "       1.50e+07, 2.20e+07, 7.00e+06, 2.00e+07, 9.00e+06, 1.10e+07,\n",
       "       1.40e+07, 1.00e+07, 6.00e+06, 1.20e+07, 8.00e+06, 2.00e+06,\n",
       "       4.00e+06, 5.00e+06, 1.00e+06, 9.78e+05, 9.49e+05, 7.60e+05,\n",
       "       8.00e+05, 6.00e+05, 5.60e+05, 8.80e+05, 7.88e+05, 9.98e+05,\n",
       "       9.45e+05, 5.85e+05, 4.55e+05, 5.53e+05, 6.83e+05, 9.06e+05,\n",
       "       3.24e+05, 7.13e+05, 8.78e+05, 3.48e+05, 7.50e+05, 8.20e+05,\n",
       "       9.75e+05, 4.32e+05, 6.80e+05, 6.16e+05, 3.60e+05, 8.08e+05,\n",
       "       6.40e+05, 5.43e+05, 9.26e+05, 9.38e+05, 4.38e+05, 5.08e+05,\n",
       "       8.25e+05, 8.34e+05, 2.52e+05, 8.91e+05, 6.89e+05, 8.44e+05,\n",
       "       4.05e+05, 7.19e+05, 3.06e+05, 2.90e+05, 3.42e+05, 4.80e+05,\n",
       "       5.94e+05, 3.58e+05, 9.10e+05, 2.10e+05, 3.78e+05, 6.88e+05,\n",
       "       6.18e+05, 1.49e+05, 7.75e+05, 3.68e+05, 4.71e+05, 6.41e+05,\n",
       "       2.84e+05, 4.26e+05, 7.09e+05, 9.00e+05, 5.04e+05, 1.87e+05,\n",
       "       4.20e+05, 6.60e+05, 5.63e+05, 7.25e+05, 9.79e+05, 9.68e+05,\n",
       "       5.78e+05, 5.40e+05, 6.38e+05, 3.57e+05, 9.43e+05, 8.75e+05,\n",
       "       8.06e+05, 3.85e+05, 9.50e+05, 6.75e+05, 7.98e+05, 8.40e+05,\n",
       "       4.52e+05, 4.39e+05, 4.65e+05, 5.44e+05, 9.69e+05, 8.79e+05,\n",
       "       6.65e+05, 4.09e+05, 8.13e+05, 5.25e+05, 9.11e+05, 7.36e+05,\n",
       "       8.55e+05, 6.25e+05, 3.99e+05, 4.88e+05, 3.87e+05, 3.05e+05,\n",
       "       5.20e+05, 1.80e+05, 5.00e+05, 7.44e+05, 5.16e+05, 2.76e+05,\n",
       "       8.53e+05, 6.50e+05, 7.76e+05, 8.70e+05, 3.12e+05, 7.65e+05,\n",
       "       5.80e+05, 8.60e+05, 1.22e+05, 5.31e+05, 8.05e+05, 1.53e+05,\n",
       "       2.08e+05, 9.20e+05, 1.31e+05, 4.06e+05, 4.18e+05, 1.74e+05,\n",
       "       7.15e+05, 5.74e+05, 9.63e+05, 6.56e+05, 3.44e+05, 1.58e+05,\n",
       "       3.30e+05, 2.43e+05, 7.00e+05, 3.96e+05, 9.60e+05, 9.90e+05,\n",
       "       2.00e+05, 3.00e+05, 5.69e+05, 3.75e+05, 5.91e+05, 7.48e+05,\n",
       "       9.03e+05, 8.63e+05, 1.13e+05, 4.68e+05, 9.62e+05, 8.10e+05,\n",
       "       3.23e+05, 7.53e+05, 2.40e+05, 2.63e+05, 6.48e+05, 2.41e+05,\n",
       "       2.16e+05, 9.61e+05, 7.61e+05, 6.13e+05, 9.30e+05, 3.91e+05,\n",
       "       8.31e+05, 8.14e+05, 7.81e+05, 4.69e+05, 6.53e+05, 3.01e+05,\n",
       "       6.99e+05, 7.43e+05, 8.94e+05, 1.20e+05, 9.91e+05, 6.20e+05,\n",
       "       2.21e+05, 4.95e+05, 7.80e+05, 1.63e+05, 1.16e+05, 3.45e+05,\n",
       "       2.03e+05, 2.80e+05, 8.61e+05, 4.81e+05, 2.18e+05, 9.15e+05,\n",
       "       6.01e+05, 9.19e+05, 5.06e+05, 3.34e+05, 8.45e+05, 3.19e+05,\n",
       "       5.23e+05, 7.29e+05, 5.70e+05, 1.09e+05, 4.54e+05, 2.50e+05,\n",
       "       3.80e+05, 9.14e+05, 9.35e+05, 4.08e+05, 1.96e+05, 7.62e+05,\n",
       "       6.96e+05, 7.70e+05, 4.35e+05, 9.94e+05, 3.38e+05, 7.01e+05,\n",
       "       2.70e+05, 2.55e+05, 9.53e+05, 9.59e+05, 8.28e+05, 8.93e+05,\n",
       "       9.76e+05, 2.64e+05, 7.84e+05, 2.97e+05, 1.60e+05, 4.44e+05,\n",
       "       9.28e+05, 2.34e+05, 6.59e+05, 1.76e+05, 8.66e+05, 9.84e+05,\n",
       "       5.81e+05, 1.89e+05, 8.19e+05, 7.20e+05, 8.77e+05, 8.01e+05,\n",
       "       2.25e+05, 6.45e+05, 3.71e+05, 7.86e+05, 3.13e+05, 9.08e+05,\n",
       "       2.98e+05, 2.88e+05, 4.40e+05, 2.13e+05, 3.63e+05, 2.61e+05,\n",
       "       9.71e+05, 1.38e+05, 8.89e+05, 3.50e+05, 6.77e+05, 5.36e+05,\n",
       "       6.98e+05, 9.58e+05, 8.27e+05, 1.08e+05, 3.10e+05, 7.30e+04,\n",
       "       6.30e+04, 2.38e+05, 7.63e+05, 1.75e+05, 3.88e+05, 9.86e+05,\n",
       "       8.38e+05, 4.73e+05, 7.95e+05, 8.39e+05, 9.21e+05, 9.32e+05,\n",
       "       8.67e+05, 2.57e+05, 3.52e+05, 1.55e+05, 4.30e+05, 9.96e+05,\n",
       "       3.33e+05, 6.63e+05, 5.96e+05, 7.74e+05, 2.48e+05, 2.58e+05,\n",
       "       1.50e+05, 5.38e+05, 4.03e+05, 7.31e+05, 6.08e+05, 7.00e+04,\n",
       "       7.35e+05, 9.34e+05, 2.32e+05, 3.04e+05, 6.86e+05, 4.97e+05,\n",
       "       2.75e+05, 6.19e+05, 9.13e+05, 6.66e+05, 6.80e+04, 9.88e+05,\n",
       "       6.10e+04, 8.21e+05, 8.30e+05, 7.99e+05, 1.72e+05, 1.94e+05,\n",
       "       5.30e+05, 6.29e+05, 8.88e+05, 6.30e+05, 7.24e+05, 6.06e+05,\n",
       "       2.45e+05, 5.84e+05, 1.25e+05, 2.59e+05, 5.34e+05, 4.50e+05,\n",
       "       1.04e+05, 5.72e+05, 8.43e+05, 3.72e+05, 5.60e+04, 5.55e+05,\n",
       "       5.50e+05, 8.90e+05, 8.50e+05, 8.11e+05, 3.11e+05, 9.46e+05,\n",
       "       9.70e+04, 4.90e+05, 1.00e+05, 1.40e+05, 9.56e+05, 1.35e+05,\n",
       "       4.13e+05, 7.70e+04, 8.48e+05, 7.54e+05, 2.72e+05, 7.72e+05,\n",
       "       4.64e+05, 3.26e+05, 4.99e+05, 1.88e+05, 7.78e+05, 3.98e+05,\n",
       "       7.10e+05, 6.69e+05, 2.28e+05, 9.80e+04, 6.84e+05, 9.40e+05,\n",
       "       7.30e+05, 3.41e+05, 6.74e+05, 3.66e+05, 6.10e+05, 5.28e+05,\n",
       "       4.63e+05, 1.93e+05, 4.28e+05, 4.29e+05, 1.45e+05, 6.39e+05,\n",
       "       4.31e+05, 4.96e+05, 2.02e+05, 7.23e+05, 3.14e+05, 9.24e+05,\n",
       "       7.12e+05, 5.48e+05, 3.15e+05, 5.93e+05, 5.86e+05, 4.60e+04,\n",
       "       6.12e+05, 2.37e+05, 4.23e+05, 5.12e+05, 8.70e+04, 5.10e+05,\n",
       "       6.94e+05, 2.15e+05, 8.82e+05, 1.51e+05, 5.40e+04, 7.40e+05,\n",
       "       4.40e+04, 7.79e+05, 6.90e+05, 2.47e+05, 7.22e+05, 3.64e+05,\n",
       "       9.67e+05, 5.33e+05, 8.80e+04, 1.23e+05, 1.11e+05, 7.05e+05,\n",
       "       8.29e+05, 2.31e+05, 5.95e+05, 4.19e+05, 6.21e+05, 6.04e+05,\n",
       "       3.18e+05, 3.31e+05, 9.99e+05, 6.47e+05, 7.26e+05, 6.68e+05,\n",
       "       1.29e+05, 5.03e+05, 8.16e+05, 5.61e+05, 3.81e+05, 2.95e+05,\n",
       "       4.58e+05, 5.18e+05, 5.02e+05, 7.96e+05, 8.81e+05, 6.09e+05,\n",
       "       4.43e+05, 2.17e+05, 6.70e+05, 5.51e+05, 5.30e+04, 5.56e+05,\n",
       "       4.33e+05, 3.56e+05, 1.69e+05, 1.24e+05, 2.79e+05, 3.80e+04,\n",
       "       2.33e+05, 8.33e+05, 7.64e+05, 3.94e+05, 6.23e+05, 4.24e+05,\n",
       "       3.92e+05, 6.34e+05, 4.02e+05, 7.90e+05, 3.62e+05, 4.75e+05,\n",
       "       4.56e+05, 4.74e+05, 3.47e+05, 8.23e+05, 3.90e+04, 3.69e+05,\n",
       "       1.95e+05, 5.19e+05, 4.45e+05, 9.50e+04, 4.47e+05, 7.50e+04,\n",
       "       5.80e+04, 3.90e+05, 1.71e+05, 3.10e+04, 5.77e+05, 4.98e+05,\n",
       "       4.36e+05, 1.82e+05, 5.71e+05, 5.88e+05, 3.74e+05, 1.30e+05,\n",
       "       3.65e+05, 1.62e+05, 4.94e+05, 7.97e+05, 2.78e+05, 6.46e+05,\n",
       "       3.51e+05, 2.81e+05, 3.25e+05, 2.92e+05, 6.05e+05, 9.09e+05,\n",
       "       9.47e+05, 4.10e+05, 3.28e+05, 5.98e+05, 2.89e+05, 8.72e+05,\n",
       "       9.70e+05, 7.41e+05, 3.32e+05, 5.76e+05, 6.15e+05, 3.97e+05,\n",
       "       3.20e+05, 4.25e+05, 9.54e+05, 3.02e+05, 4.01e+05, 2.44e+05,\n",
       "       9.80e+05, 5.09e+05, 2.93e+05, 5.64e+05, 3.36e+05, 4.61e+05,\n",
       "       4.14e+05, 2.71e+05, 2.65e+05, 7.59e+05, 3.09e+05, 7.07e+05,\n",
       "       4.67e+05, 2.56e+05, 6.91e+05, 3.53e+05, 4.70e+05, 4.62e+05,\n",
       "       6.42e+05, 7.28e+05, 4.70e+04, 4.49e+05, 1.85e+05, 5.52e+05,\n",
       "       6.50e+04, 8.49e+05, 1.86e+05, 8.84e+05, 3.29e+05, 8.86e+05,\n",
       "       5.41e+05, 2.39e+05, 6.67e+05, 2.85e+05, 7.58e+05, 7.80e+04,\n",
       "       2.74e+05, 3.83e+05, 4.07e+05, 4.84e+05, 4.51e+05, 6.33e+05,\n",
       "       2.14e+05, 5.17e+05, 7.77e+05, 1.98e+05, 7.56e+05, 4.37e+05,\n",
       "       4.60e+05, 2.60e+04, 4.15e+05, 1.99e+05, 6.31e+05, 2.60e+05,\n",
       "       2.20e+04, 2.99e+05, 9.18e+05, 1.02e+05, 3.30e+04, 7.39e+05,\n",
       "       2.11e+05, 3.40e+05, 3.76e+05, 2.50e+04, 5.58e+05, 4.57e+05,\n",
       "       1.46e+05, 2.29e+05, 2.19e+05, 2.20e+05, 4.30e+04, 4.77e+05,\n",
       "       7.49e+05, 2.91e+05, 4.83e+05, 3.84e+05, 1.65e+05, 7.06e+05,\n",
       "       2.12e+05, 4.41e+05, 4.00e+05, 1.57e+05, 6.81e+05, 5.22e+05,\n",
       "       1.33e+05, 3.70e+05, 2.42e+05, 1.32e+05, 4.89e+05, 9.30e+04,\n",
       "       2.67e+05, 1.05e+05, 6.78e+05, 7.90e+04, 2.96e+05, 5.35e+05,\n",
       "       1.83e+05, 5.46e+05, 2.54e+05, 5.83e+05, 1.36e+05, 1.43e+05,\n",
       "       4.46e+05, 5.15e+05, 1.68e+05, 2.73e+05, 2.66e+05, 2.07e+05,\n",
       "       2.01e+05, 1.73e+05, 3.08e+05, 6.44e+05, 4.42e+05, 5.99e+05,\n",
       "       1.12e+05, 1.19e+05, 5.65e+05, 4.66e+05, 6.22e+05, 4.79e+05,\n",
       "       3.61e+05, 1.79e+05, 1.59e+05, 2.04e+05, 5.05e+05, 1.78e+05,\n",
       "       3.95e+05, 2.24e+05, 1.30e+04, 1.90e+05, 1.14e+05, 2.49e+05,\n",
       "       5.01e+05, 9.00e+04, 4.17e+05, 6.20e+04, 4.04e+05, 2.35e+05,\n",
       "       1.70e+05, 5.27e+05, 2.82e+05, 4.85e+05, 5.45e+05, 4.76e+05,\n",
       "       3.60e+04, 4.21e+05, 2.77e+05, 4.72e+05, 2.23e+05, 1.64e+05,\n",
       "       1.17e+05, 2.86e+05, 1.21e+05, 2.94e+05, 3.16e+05, 3.89e+05,\n",
       "       2.22e+05, 1.26e+05, 1.48e+05, 3.54e+05, 4.93e+05, 4.59e+05,\n",
       "       1.06e+05, 1.92e+05, 3.27e+05, 1.42e+05, 3.49e+05, 1.20e+04,\n",
       "       3.03e+05, 1.52e+05, 4.16e+05, 3.79e+05, 3.77e+05, 3.43e+05,\n",
       "       2.83e+05, 2.06e+05, 1.67e+05, 2.09e+05, 3.22e+05, 1.56e+05,\n",
       "       1.10e+05, 3.67e+05, 1.44e+05, 8.00e+04, 1.47e+05, 1.34e+05,\n",
       "       9.90e+04, 2.27e+05, 8.10e+04, 1.37e+05, 2.53e+05, 7.60e+04,\n",
       "       9.00e+03, 1.28e+05, 1.41e+05, 2.05e+05, 7.10e+04, 8.30e+04,\n",
       "       8.60e+04, 7.20e+04, 1.66e+05, 9.60e+04, 1.18e+05, 1.61e+05,\n",
       "       9.40e+04, 1.77e+05, 5.00e+04, 4.10e+04, 8.20e+04, 1.39e+05,\n",
       "       6.60e+04, 8.40e+04, 7.40e+04, 1.07e+05, 4.90e+04, 1.01e+05,\n",
       "       5.70e+04, 5.90e+04, 3.50e+04, 6.40e+04])"
      ]
     },
     "execution_count": 64,
     "metadata": {},
     "output_type": "execute_result"
    }
   ],
   "source": [
    "fd['Release Clause'].unique()"
   ]
  },
  {
   "cell_type": "code",
   "execution_count": 65,
   "metadata": {},
   "outputs": [
    {
     "data": {
      "text/plain": [
       "0    138000000.0\n",
       "1     75000000.0\n",
       "2    159000000.0\n",
       "3    161000000.0\n",
       "4    166000000.0\n",
       "Name: Release Clause, dtype: float64"
      ]
     },
     "execution_count": 65,
     "metadata": {},
     "output_type": "execute_result"
    }
   ],
   "source": [
    "fd['Release Clause'].head()"
   ]
  },
  {
   "cell_type": "code",
   "execution_count": 66,
   "metadata": {},
   "outputs": [
    {
     "data": {
      "text/plain": [
       "0"
      ]
     },
     "execution_count": 66,
     "metadata": {},
     "output_type": "execute_result"
    }
   ],
   "source": [
    "fd['Value'].isnull().sum()"
   ]
  },
  {
   "cell_type": "code",
   "execution_count": 67,
   "metadata": {},
   "outputs": [
    {
     "data": {
      "text/html": [
       "<div>\n",
       "<style scoped>\n",
       "    .dataframe tbody tr th:only-of-type {\n",
       "        vertical-align: middle;\n",
       "    }\n",
       "\n",
       "    .dataframe tbody tr th {\n",
       "        vertical-align: top;\n",
       "    }\n",
       "\n",
       "    .dataframe thead th {\n",
       "        text-align: right;\n",
       "    }\n",
       "</style>\n",
       "<table border=\"1\" class=\"dataframe\">\n",
       "  <thead>\n",
       "    <tr style=\"text-align: right;\">\n",
       "      <th></th>\n",
       "      <th>Reactions</th>\n",
       "      <th>Balance</th>\n",
       "      <th>Power</th>\n",
       "      <th>Shot Power</th>\n",
       "      <th>Jumping</th>\n",
       "      <th>Stamina</th>\n",
       "      <th>Strength</th>\n",
       "      <th>Long Shots</th>\n",
       "      <th>Mentality</th>\n",
       "      <th>Aggression</th>\n",
       "      <th>Interceptions</th>\n",
       "      <th>Positioning</th>\n",
       "      <th>Vision</th>\n",
       "      <th>Penalties</th>\n",
       "      <th>Composure</th>\n",
       "    </tr>\n",
       "  </thead>\n",
       "  <tbody>\n",
       "    <tr>\n",
       "      <th>0</th>\n",
       "      <td>94</td>\n",
       "      <td>95</td>\n",
       "      <td>389</td>\n",
       "      <td>86</td>\n",
       "      <td>68</td>\n",
       "      <td>72</td>\n",
       "      <td>69</td>\n",
       "      <td>94</td>\n",
       "      <td>347</td>\n",
       "      <td>44</td>\n",
       "      <td>40</td>\n",
       "      <td>93</td>\n",
       "      <td>95</td>\n",
       "      <td>75</td>\n",
       "      <td>96</td>\n",
       "    </tr>\n",
       "    <tr>\n",
       "      <th>1</th>\n",
       "      <td>95</td>\n",
       "      <td>71</td>\n",
       "      <td>444</td>\n",
       "      <td>94</td>\n",
       "      <td>95</td>\n",
       "      <td>84</td>\n",
       "      <td>78</td>\n",
       "      <td>93</td>\n",
       "      <td>353</td>\n",
       "      <td>63</td>\n",
       "      <td>29</td>\n",
       "      <td>95</td>\n",
       "      <td>82</td>\n",
       "      <td>84</td>\n",
       "      <td>95</td>\n",
       "    </tr>\n",
       "    <tr>\n",
       "      <th>2</th>\n",
       "      <td>88</td>\n",
       "      <td>49</td>\n",
       "      <td>268</td>\n",
       "      <td>59</td>\n",
       "      <td>78</td>\n",
       "      <td>41</td>\n",
       "      <td>78</td>\n",
       "      <td>12</td>\n",
       "      <td>140</td>\n",
       "      <td>34</td>\n",
       "      <td>19</td>\n",
       "      <td>11</td>\n",
       "      <td>65</td>\n",
       "      <td>11</td>\n",
       "      <td>68</td>\n",
       "    </tr>\n",
       "    <tr>\n",
       "      <th>3</th>\n",
       "      <td>91</td>\n",
       "      <td>76</td>\n",
       "      <td>408</td>\n",
       "      <td>91</td>\n",
       "      <td>63</td>\n",
       "      <td>89</td>\n",
       "      <td>74</td>\n",
       "      <td>91</td>\n",
       "      <td>408</td>\n",
       "      <td>76</td>\n",
       "      <td>66</td>\n",
       "      <td>88</td>\n",
       "      <td>94</td>\n",
       "      <td>84</td>\n",
       "      <td>91</td>\n",
       "    </tr>\n",
       "    <tr>\n",
       "      <th>4</th>\n",
       "      <td>91</td>\n",
       "      <td>83</td>\n",
       "      <td>357</td>\n",
       "      <td>80</td>\n",
       "      <td>62</td>\n",
       "      <td>81</td>\n",
       "      <td>50</td>\n",
       "      <td>84</td>\n",
       "      <td>356</td>\n",
       "      <td>51</td>\n",
       "      <td>36</td>\n",
       "      <td>87</td>\n",
       "      <td>90</td>\n",
       "      <td>92</td>\n",
       "      <td>93</td>\n",
       "    </tr>\n",
       "    <tr>\n",
       "      <th>5</th>\n",
       "      <td>93</td>\n",
       "      <td>82</td>\n",
       "      <td>420</td>\n",
       "      <td>89</td>\n",
       "      <td>84</td>\n",
       "      <td>76</td>\n",
       "      <td>86</td>\n",
       "      <td>85</td>\n",
       "      <td>391</td>\n",
       "      <td>81</td>\n",
       "      <td>49</td>\n",
       "      <td>94</td>\n",
       "      <td>79</td>\n",
       "      <td>88</td>\n",
       "      <td>88</td>\n",
       "    </tr>\n",
       "  </tbody>\n",
       "</table>\n",
       "</div>"
      ],
      "text/plain": [
       "   Reactions  Balance  Power  Shot Power  Jumping  Stamina  Strength  \\\n",
       "0         94       95    389          86       68       72        69   \n",
       "1         95       71    444          94       95       84        78   \n",
       "2         88       49    268          59       78       41        78   \n",
       "3         91       76    408          91       63       89        74   \n",
       "4         91       83    357          80       62       81        50   \n",
       "5         93       82    420          89       84       76        86   \n",
       "\n",
       "   Long Shots  Mentality  Aggression  Interceptions  Positioning  Vision  \\\n",
       "0          94        347          44             40           93      95   \n",
       "1          93        353          63             29           95      82   \n",
       "2          12        140          34             19           11      65   \n",
       "3          91        408          76             66           88      94   \n",
       "4          84        356          51             36           87      90   \n",
       "5          85        391          81             49           94      79   \n",
       "\n",
       "   Penalties  Composure  \n",
       "0         75         96  \n",
       "1         84         95  \n",
       "2         11         68  \n",
       "3         84         91  \n",
       "4         92         93  \n",
       "5         88         88  "
      ]
     },
     "execution_count": 67,
     "metadata": {},
     "output_type": "execute_result"
    }
   ],
   "source": [
    "fd.iloc[:,35:50].head(6)"
   ]
  },
  {
   "cell_type": "code",
   "execution_count": 68,
   "metadata": {},
   "outputs": [
    {
     "data": {
      "text/html": [
       "<div>\n",
       "<style scoped>\n",
       "    .dataframe tbody tr th:only-of-type {\n",
       "        vertical-align: middle;\n",
       "    }\n",
       "\n",
       "    .dataframe tbody tr th {\n",
       "        vertical-align: top;\n",
       "    }\n",
       "\n",
       "    .dataframe thead th {\n",
       "        text-align: right;\n",
       "    }\n",
       "</style>\n",
       "<table border=\"1\" class=\"dataframe\">\n",
       "  <thead>\n",
       "    <tr style=\"text-align: right;\">\n",
       "      <th></th>\n",
       "      <th>Marking</th>\n",
       "      <th>Standing Tackle</th>\n",
       "      <th>Sliding Tackle</th>\n",
       "      <th>Goalkeeping</th>\n",
       "      <th>GK Diving</th>\n",
       "      <th>GK Handling</th>\n",
       "      <th>GK Kicking</th>\n",
       "      <th>GK Positioning</th>\n",
       "      <th>GK Reflexes</th>\n",
       "      <th>Total Stats</th>\n",
       "      <th>Base Stats</th>\n",
       "      <th>W/F</th>\n",
       "      <th>SM</th>\n",
       "      <th>A/W</th>\n",
       "      <th>D/W</th>\n",
       "    </tr>\n",
       "  </thead>\n",
       "  <tbody>\n",
       "    <tr>\n",
       "      <th>0</th>\n",
       "      <td>32</td>\n",
       "      <td>35</td>\n",
       "      <td>24</td>\n",
       "      <td>54</td>\n",
       "      <td>6</td>\n",
       "      <td>11</td>\n",
       "      <td>15</td>\n",
       "      <td>14</td>\n",
       "      <td>8</td>\n",
       "      <td>2231</td>\n",
       "      <td>466</td>\n",
       "      <td>4 ★</td>\n",
       "      <td>4★</td>\n",
       "      <td>Medium</td>\n",
       "      <td>Low</td>\n",
       "    </tr>\n",
       "    <tr>\n",
       "      <th>1</th>\n",
       "      <td>28</td>\n",
       "      <td>32</td>\n",
       "      <td>24</td>\n",
       "      <td>58</td>\n",
       "      <td>7</td>\n",
       "      <td>11</td>\n",
       "      <td>15</td>\n",
       "      <td>14</td>\n",
       "      <td>11</td>\n",
       "      <td>2221</td>\n",
       "      <td>464</td>\n",
       "      <td>4 ★</td>\n",
       "      <td>5★</td>\n",
       "      <td>High</td>\n",
       "      <td>Low</td>\n",
       "    </tr>\n",
       "    <tr>\n",
       "      <th>2</th>\n",
       "      <td>27</td>\n",
       "      <td>12</td>\n",
       "      <td>18</td>\n",
       "      <td>437</td>\n",
       "      <td>87</td>\n",
       "      <td>92</td>\n",
       "      <td>78</td>\n",
       "      <td>90</td>\n",
       "      <td>90</td>\n",
       "      <td>1413</td>\n",
       "      <td>489</td>\n",
       "      <td>3 ★</td>\n",
       "      <td>1★</td>\n",
       "      <td>Medium</td>\n",
       "      <td>Medium</td>\n",
       "    </tr>\n",
       "    <tr>\n",
       "      <th>3</th>\n",
       "      <td>68</td>\n",
       "      <td>65</td>\n",
       "      <td>53</td>\n",
       "      <td>56</td>\n",
       "      <td>15</td>\n",
       "      <td>13</td>\n",
       "      <td>5</td>\n",
       "      <td>10</td>\n",
       "      <td>13</td>\n",
       "      <td>2304</td>\n",
       "      <td>485</td>\n",
       "      <td>5 ★</td>\n",
       "      <td>4★</td>\n",
       "      <td>High</td>\n",
       "      <td>High</td>\n",
       "    </tr>\n",
       "    <tr>\n",
       "      <th>4</th>\n",
       "      <td>35</td>\n",
       "      <td>30</td>\n",
       "      <td>29</td>\n",
       "      <td>59</td>\n",
       "      <td>9</td>\n",
       "      <td>9</td>\n",
       "      <td>15</td>\n",
       "      <td>15</td>\n",
       "      <td>11</td>\n",
       "      <td>2175</td>\n",
       "      <td>451</td>\n",
       "      <td>5 ★</td>\n",
       "      <td>5★</td>\n",
       "      <td>High</td>\n",
       "      <td>Medium</td>\n",
       "    </tr>\n",
       "    <tr>\n",
       "      <th>5</th>\n",
       "      <td>35</td>\n",
       "      <td>42</td>\n",
       "      <td>19</td>\n",
       "      <td>51</td>\n",
       "      <td>15</td>\n",
       "      <td>6</td>\n",
       "      <td>12</td>\n",
       "      <td>8</td>\n",
       "      <td>10</td>\n",
       "      <td>2195</td>\n",
       "      <td>457</td>\n",
       "      <td>4 ★</td>\n",
       "      <td>4★</td>\n",
       "      <td>High</td>\n",
       "      <td>Medium</td>\n",
       "    </tr>\n",
       "  </tbody>\n",
       "</table>\n",
       "</div>"
      ],
      "text/plain": [
       "   Marking  Standing Tackle  Sliding Tackle  Goalkeeping  GK Diving  \\\n",
       "0       32               35              24           54          6   \n",
       "1       28               32              24           58          7   \n",
       "2       27               12              18          437         87   \n",
       "3       68               65              53           56         15   \n",
       "4       35               30              29           59          9   \n",
       "5       35               42              19           51         15   \n",
       "\n",
       "   GK Handling  GK Kicking  GK Positioning  GK Reflexes  Total Stats  \\\n",
       "0           11          15              14            8         2231   \n",
       "1           11          15              14           11         2221   \n",
       "2           92          78              90           90         1413   \n",
       "3           13           5              10           13         2304   \n",
       "4            9          15              15           11         2175   \n",
       "5            6          12               8           10         2195   \n",
       "\n",
       "   Base Stats  W/F  SM     A/W     D/W  \n",
       "0         466  4 ★  4★  Medium     Low  \n",
       "1         464  4 ★  5★    High     Low  \n",
       "2         489  3 ★  1★  Medium  Medium  \n",
       "3         485  5 ★  4★    High    High  \n",
       "4         451  5 ★  5★    High  Medium  \n",
       "5         457  4 ★  4★    High  Medium  "
      ]
     },
     "execution_count": 68,
     "metadata": {},
     "output_type": "execute_result"
    }
   ],
   "source": [
    "fd.iloc[:,51:66].head(6)"
   ]
  },
  {
   "cell_type": "markdown",
   "metadata": {},
   "source": [
    "# Remove star(★) from IR, W/F, SM columns and change datatype to int"
   ]
  },
  {
   "cell_type": "code",
   "execution_count": 69,
   "metadata": {},
   "outputs": [
    {
     "data": {
      "text/plain": [
       "array(['5 ★', '3 ★', '4 ★', '2 ★', '1 ★'], dtype=object)"
      ]
     },
     "execution_count": 69,
     "metadata": {},
     "output_type": "execute_result"
    }
   ],
   "source": [
    "fd['IR'].unique()"
   ]
  },
  {
   "cell_type": "code",
   "execution_count": 70,
   "metadata": {},
   "outputs": [],
   "source": [
    "def clean_star(x):\n",
    "    x=x.replace('★','')\n",
    "    return x"
   ]
  },
  {
   "cell_type": "code",
   "execution_count": 71,
   "metadata": {},
   "outputs": [],
   "source": [
    "fd['IR']=fd['IR'].apply(clean_star)\n",
    "fd['W/F']=fd['W/F'].apply(clean_star)\n",
    "fd['SM']=fd['SM'].apply(clean_star)"
   ]
  },
  {
   "cell_type": "code",
   "execution_count": 72,
   "metadata": {},
   "outputs": [
    {
     "data": {
      "text/html": [
       "<div>\n",
       "<style scoped>\n",
       "    .dataframe tbody tr th:only-of-type {\n",
       "        vertical-align: middle;\n",
       "    }\n",
       "\n",
       "    .dataframe tbody tr th {\n",
       "        vertical-align: top;\n",
       "    }\n",
       "\n",
       "    .dataframe thead th {\n",
       "        text-align: right;\n",
       "    }\n",
       "</style>\n",
       "<table border=\"1\" class=\"dataframe\">\n",
       "  <thead>\n",
       "    <tr style=\"text-align: right;\">\n",
       "      <th></th>\n",
       "      <th>IR</th>\n",
       "      <th>W/F</th>\n",
       "      <th>SM</th>\n",
       "    </tr>\n",
       "  </thead>\n",
       "  <tbody>\n",
       "    <tr>\n",
       "      <th>0</th>\n",
       "      <td>5</td>\n",
       "      <td>4</td>\n",
       "      <td>4</td>\n",
       "    </tr>\n",
       "    <tr>\n",
       "      <th>1</th>\n",
       "      <td>5</td>\n",
       "      <td>4</td>\n",
       "      <td>5</td>\n",
       "    </tr>\n",
       "    <tr>\n",
       "      <th>2</th>\n",
       "      <td>3</td>\n",
       "      <td>3</td>\n",
       "      <td>1</td>\n",
       "    </tr>\n",
       "    <tr>\n",
       "      <th>3</th>\n",
       "      <td>4</td>\n",
       "      <td>5</td>\n",
       "      <td>4</td>\n",
       "    </tr>\n",
       "    <tr>\n",
       "      <th>4</th>\n",
       "      <td>5</td>\n",
       "      <td>5</td>\n",
       "      <td>5</td>\n",
       "    </tr>\n",
       "  </tbody>\n",
       "</table>\n",
       "</div>"
      ],
      "text/plain": [
       "   IR W/F SM\n",
       "0  5   4   4\n",
       "1  5   4   5\n",
       "2  3   3   1\n",
       "3  4   5   4\n",
       "4  5   5   5"
      ]
     },
     "execution_count": 72,
     "metadata": {},
     "output_type": "execute_result"
    }
   ],
   "source": [
    "fd[['IR','W/F','SM']].head()"
   ]
  },
  {
   "cell_type": "code",
   "execution_count": 73,
   "metadata": {},
   "outputs": [],
   "source": [
    "#Now convert it using pd.to_numeric()\n",
    "fd['IR']=pd.to_numeric(fd['IR'])"
   ]
  },
  {
   "cell_type": "code",
   "execution_count": 74,
   "metadata": {},
   "outputs": [],
   "source": [
    "fd['W/F']=pd.to_numeric(fd['W/F'])\n",
    "fd['SM']=pd.to_numeric(fd['SM'])"
   ]
  },
  {
   "cell_type": "code",
   "execution_count": 75,
   "metadata": {},
   "outputs": [
    {
     "data": {
      "text/plain": [
       "IR     int64\n",
       "W/F    int64\n",
       "SM     int64\n",
       "dtype: object"
      ]
     },
     "execution_count": 75,
     "metadata": {},
     "output_type": "execute_result"
    }
   ],
   "source": [
    "fd[['IR','W/F','SM']].dtypes"
   ]
  },
  {
   "cell_type": "markdown",
   "metadata": {},
   "source": [
    "# Let us work on the Hits Column...multiplty the vals having 'k' by 1000, also change data type"
   ]
  },
  {
   "cell_type": "code",
   "execution_count": 76,
   "metadata": {},
   "outputs": [
    {
     "data": {
      "text/plain": [
       "0"
      ]
     },
     "execution_count": 76,
     "metadata": {},
     "output_type": "execute_result"
    }
   ],
   "source": [
    "fd.Hits.isnull().sum()"
   ]
  },
  {
   "cell_type": "code",
   "execution_count": 77,
   "metadata": {},
   "outputs": [
    {
     "data": {
      "text/plain": [
       "array([771, 562, 150, 207, 595, 248, 246, 120, '1.6K', 130, 321, 189, 175,\n",
       "       96, 118, 216, 212, 154, 205, 202, 339, 408, 103, 332, 86, 173, 161,\n",
       "       396, '1.1K', 433, 242, 206, 177, '1.5K', 198, 459, 117, 119, 209,\n",
       "       84, 187, 165, 203, 65, 336, 126, 313, 124, 145, 538, 182, 101, 45,\n",
       "       377, 99, 194, 403, 414, 593, 374, 245, '3.2K', 266, 299, 309, 215,\n",
       "       265, 211, 112, 337, 70, 159, 688, 116, 63, 144, 123, 71, 224, 113,\n",
       "       168, 61, 89, 137, 278, 75, 148, 176, 197, 264, 214, 247, 402, 440,\n",
       "       '1.7K', '2.3K', 171, 320, 657, 87, 259, 200, 255, 253, 196, 60, 97,\n",
       "       85, 169, 256, 132, 239, 166, 121, 109, 32, 46, 122, 48, 527, 199,\n",
       "       282, 51, '1.9K', 642, 155, 323, 288, 497, 509, 79, 49, 270, 511,\n",
       "       80, 128, 115, 156, 204, 143, 140, 152, 220, 134, 225, 94, 74, 135,\n",
       "       142, 50, 77, 40, 107, 193, 179, 34, 64, 453, 57, 81, 28, 78, 133,\n",
       "       43, 425, 88, 42, 36, 233, 376, 210, 444, 100, 263, 98, 29, 160, 39,\n",
       "       257, 6, 310, 138, 62, 293, 285, 362, 66, 69, 58, 21, 20, 131, 38,\n",
       "       406, 68, 108, 110, 93, 512, 443, 306, 352, 422, 585, 346, 178, 841,\n",
       "       76, 394, 72, 172, 44, 407, 230, 367, 295, 157, 243, 56, 111, 326,\n",
       "       679, 18, 92, 59, 25, 184, 53, 12, 90, 55, 73, 11, 566, 180, 83,\n",
       "       262, 17, 26, 31, 280, 359, 213, 297, 387, 480, 381, 677, 486, 8,\n",
       "       244, 129, 388, 275, 319, '2K', 52, 91, 421, 153, 27, 41, 222, 35,\n",
       "       102, 23, 30, 33, 146, 13, 19, 14, 106, 276, 568, 353, 47, 478, 249,\n",
       "       254, 369, 219, 565, 237, 227, 434, 375, 162, 605, 654, 3, 7, 9,\n",
       "       104, 114, 186, 446, 756, 22, 139, 500, 67, 147, 149, 16, 82, 54,\n",
       "       37, 15, '1.3K', '3K', 952, 5, 749, 541, 330, 393, 517, 770, 409,\n",
       "       170, 125, 283, 342, 363, 580, 105, 217, 24, 141, 10, 427, 158, 426,\n",
       "       4, 666, 181, 324, 979, '1.4K', 302, 751, 298, 411, 944, 2, 947,\n",
       "       292, 349, 621, 1, '2.8K', 338, 287, 261, 218, '1.8K', 240, 279,\n",
       "       229, 188, 315, 664, 613, 190, 706, 127, 462, 386, 695, 491, 167,\n",
       "       281, 250, 307, 95, 231, 174, 680, 633, 221, 348, 602, 183, 653,\n",
       "       195, 164, 151, 258, '8.4K', 343, 419, 655, 136, 399, 531, 357, 228,\n",
       "       385, 312, 340, 238, 487, 355, 499, '4.3K', 296, 515, 943, '1.2K',\n",
       "       903, 335, 191, 594, 267, 617, 516, 504, 331, 652, 410, 550, 473,\n",
       "       442, 344, 208, '1K', '2.5K', 273, 485, 826, 192, 405, 941, 477,\n",
       "       644, 303, 417, '6K', 0], dtype=object)"
      ]
     },
     "execution_count": 77,
     "metadata": {},
     "output_type": "execute_result"
    }
   ],
   "source": [
    "fd.Hits.unique()"
   ]
  },
  {
   "cell_type": "code",
   "execution_count": 78,
   "metadata": {},
   "outputs": [],
   "source": [
    "fd['Hits']=fd['Hits'].astype(str)\n",
    "\n",
    "def hitcol(b):\n",
    "    if 'K' in b:\n",
    "        b= b.replace('K','')\n",
    "        b= float(b)\n",
    "        b=int(b)*1000\n",
    "        return b\n",
    "    else:\n",
    "        b=b\n",
    "        return b\n",
    "        "
   ]
  },
  {
   "cell_type": "code",
   "execution_count": 79,
   "metadata": {},
   "outputs": [],
   "source": [
    "fd['Hits']=fd['Hits'].apply(hitcol)"
   ]
  },
  {
   "cell_type": "code",
   "execution_count": 80,
   "metadata": {},
   "outputs": [
    {
     "data": {
      "text/plain": [
       "array(['771', '562', '150', '207', '595', '248', '246', '120', 1000,\n",
       "       '130', '321', '189', '175', '96', '118', '216', '212', '154',\n",
       "       '205', '202', '339', '408', '103', '332', '86', '173', '161',\n",
       "       '396', '433', '242', '206', '177', '198', '459', '117', '119',\n",
       "       '209', '84', '187', '165', '203', '65', '336', '126', '313', '124',\n",
       "       '145', '538', '182', '101', '45', '377', '99', '194', '403', '414',\n",
       "       '593', '374', '245', 3000, '266', '299', '309', '215', '265',\n",
       "       '211', '112', '337', '70', '159', '688', '116', '63', '144', '123',\n",
       "       '71', '224', '113', '168', '61', '89', '137', '278', '75', '148',\n",
       "       '176', '197', '264', '214', '247', '402', '440', 2000, '171',\n",
       "       '320', '657', '87', '259', '200', '255', '253', '196', '60', '97',\n",
       "       '85', '169', '256', '132', '239', '166', '121', '109', '32', '46',\n",
       "       '122', '48', '527', '199', '282', '51', '642', '155', '323', '288',\n",
       "       '497', '509', '79', '49', '270', '511', '80', '128', '115', '156',\n",
       "       '204', '143', '140', '152', '220', '134', '225', '94', '74', '135',\n",
       "       '142', '50', '77', '40', '107', '193', '179', '34', '64', '453',\n",
       "       '57', '81', '28', '78', '133', '43', '425', '88', '42', '36',\n",
       "       '233', '376', '210', '444', '100', '263', '98', '29', '160', '39',\n",
       "       '257', '6', '310', '138', '62', '293', '285', '362', '66', '69',\n",
       "       '58', '21', '20', '131', '38', '406', '68', '108', '110', '93',\n",
       "       '512', '443', '306', '352', '422', '585', '346', '178', '841',\n",
       "       '76', '394', '72', '172', '44', '407', '230', '367', '295', '157',\n",
       "       '243', '56', '111', '326', '679', '18', '92', '59', '25', '184',\n",
       "       '53', '12', '90', '55', '73', '11', '566', '180', '83', '262',\n",
       "       '17', '26', '31', '280', '359', '213', '297', '387', '480', '381',\n",
       "       '677', '486', '8', '244', '129', '388', '275', '319', '52', '91',\n",
       "       '421', '153', '27', '41', '222', '35', '102', '23', '30', '33',\n",
       "       '146', '13', '19', '14', '106', '276', '568', '353', '47', '478',\n",
       "       '249', '254', '369', '219', '565', '237', '227', '434', '375',\n",
       "       '162', '605', '654', '3', '7', '9', '104', '114', '186', '446',\n",
       "       '756', '22', '139', '500', '67', '147', '149', '16', '82', '54',\n",
       "       '37', '15', '952', '5', '749', '541', '330', '393', '517', '770',\n",
       "       '409', '170', '125', '283', '342', '363', '580', '105', '217',\n",
       "       '24', '141', '10', '427', '158', '426', '4', '666', '181', '324',\n",
       "       '979', '302', '751', '298', '411', '944', '2', '947', '292', '349',\n",
       "       '621', '1', '338', '287', '261', '218', '240', '279', '229', '188',\n",
       "       '315', '664', '613', '190', '706', '127', '462', '386', '695',\n",
       "       '491', '167', '281', '250', '307', '95', '231', '174', '680',\n",
       "       '633', '221', '348', '602', '183', '653', '195', '164', '151',\n",
       "       '258', 8000, '343', '419', '655', '136', '399', '531', '357',\n",
       "       '228', '385', '312', '340', '238', '487', '355', '499', 4000,\n",
       "       '296', '515', '943', '903', '335', '191', '594', '267', '617',\n",
       "       '516', '504', '331', '652', '410', '550', '473', '442', '344',\n",
       "       '208', '273', '485', '826', '192', '405', '941', '477', '644',\n",
       "       '303', '417', 6000, '0'], dtype=object)"
      ]
     },
     "execution_count": 80,
     "metadata": {},
     "output_type": "execute_result"
    }
   ],
   "source": [
    "fd['Hits'].unique()"
   ]
  },
  {
   "cell_type": "code",
   "execution_count": 81,
   "metadata": {},
   "outputs": [
    {
     "data": {
      "text/plain": [
       "dtype('O')"
      ]
     },
     "execution_count": 81,
     "metadata": {},
     "output_type": "execute_result"
    }
   ],
   "source": [
    "fd['Hits'].dtype"
   ]
  },
  {
   "cell_type": "code",
   "execution_count": 82,
   "metadata": {},
   "outputs": [],
   "source": [
    "fd['Hits']=pd.to_numeric(fd['Hits'])"
   ]
  },
  {
   "cell_type": "code",
   "execution_count": 83,
   "metadata": {},
   "outputs": [
    {
     "data": {
      "text/plain": [
       "0"
      ]
     },
     "execution_count": 83,
     "metadata": {},
     "output_type": "execute_result"
    }
   ],
   "source": [
    "fd['Hits'].isnull().sum()"
   ]
  },
  {
   "cell_type": "code",
   "execution_count": 84,
   "metadata": {},
   "outputs": [],
   "source": [
    "fd['Joined']=pd.to_datetime(fd['Joined'])"
   ]
  },
  {
   "cell_type": "markdown",
   "metadata": {},
   "source": [
    "# Checking for duplicates"
   ]
  },
  {
   "cell_type": "code",
   "execution_count": 85,
   "metadata": {},
   "outputs": [
    {
     "data": {
      "text/html": [
       "<div>\n",
       "<style scoped>\n",
       "    .dataframe tbody tr th:only-of-type {\n",
       "        vertical-align: middle;\n",
       "    }\n",
       "\n",
       "    .dataframe tbody tr th {\n",
       "        vertical-align: top;\n",
       "    }\n",
       "\n",
       "    .dataframe thead th {\n",
       "        text-align: right;\n",
       "    }\n",
       "</style>\n",
       "<table border=\"1\" class=\"dataframe\">\n",
       "  <thead>\n",
       "    <tr style=\"text-align: right;\">\n",
       "      <th></th>\n",
       "      <th>ID</th>\n",
       "      <th>Full_name</th>\n",
       "      <th>photoUrl</th>\n",
       "      <th>Nationality</th>\n",
       "      <th>Age</th>\n",
       "      <th>OVA</th>\n",
       "      <th>POT</th>\n",
       "      <th>Club</th>\n",
       "      <th>Contract_status</th>\n",
       "      <th>Positions</th>\n",
       "      <th>...</th>\n",
       "      <th>A/W</th>\n",
       "      <th>D/W</th>\n",
       "      <th>IR</th>\n",
       "      <th>PAC</th>\n",
       "      <th>SHO</th>\n",
       "      <th>PAS</th>\n",
       "      <th>DRI</th>\n",
       "      <th>DEF</th>\n",
       "      <th>PHY</th>\n",
       "      <th>Hits</th>\n",
       "    </tr>\n",
       "  </thead>\n",
       "  <tbody>\n",
       "  </tbody>\n",
       "</table>\n",
       "<p>0 rows × 74 columns</p>\n",
       "</div>"
      ],
      "text/plain": [
       "Empty DataFrame\n",
       "Columns: [ID, Full_name, photoUrl, Nationality, Age, OVA, POT, Club, Contract_status, Positions, Height(cm), Weight(kg), Preferred Foot, BOV, Best Position, Joined, Value, Wage, Release Clause, Attacking, Crossing, Finishing, Heading Accuracy, Short Passing, Volleys, Skill, Dribbling, Curve, FK Accuracy, Long Passing, Ball Control, Movement, Acceleration, Sprint Speed, Agility, Reactions, Balance, Power, Shot Power, Jumping, Stamina, Strength, Long Shots, Mentality, Aggression, Interceptions, Positioning, Vision, Penalties, Composure, Defending, Marking, Standing Tackle, Sliding Tackle, Goalkeeping, GK Diving, GK Handling, GK Kicking, GK Positioning, GK Reflexes, Total Stats, Base Stats, W/F, SM, A/W, D/W, IR, PAC, SHO, PAS, DRI, DEF, PHY, Hits]\n",
       "Index: []\n",
       "\n",
       "[0 rows x 74 columns]"
      ]
     },
     "execution_count": 85,
     "metadata": {},
     "output_type": "execute_result"
    }
   ],
   "source": [
    "fd[fd.duplicated()]"
   ]
  },
  {
   "cell_type": "markdown",
   "metadata": {},
   "source": [
    "# Creating another copy"
   ]
  },
  {
   "cell_type": "code",
   "execution_count": 86,
   "metadata": {},
   "outputs": [],
   "source": [
    "Cleaned_Fifa_Data=fd.copy()"
   ]
  },
  {
   "cell_type": "code",
   "execution_count": 87,
   "metadata": {},
   "outputs": [
    {
     "data": {
      "text/html": [
       "<div>\n",
       "<style scoped>\n",
       "    .dataframe tbody tr th:only-of-type {\n",
       "        vertical-align: middle;\n",
       "    }\n",
       "\n",
       "    .dataframe tbody tr th {\n",
       "        vertical-align: top;\n",
       "    }\n",
       "\n",
       "    .dataframe thead th {\n",
       "        text-align: right;\n",
       "    }\n",
       "</style>\n",
       "<table border=\"1\" class=\"dataframe\">\n",
       "  <thead>\n",
       "    <tr style=\"text-align: right;\">\n",
       "      <th></th>\n",
       "      <th>ID</th>\n",
       "      <th>Full_name</th>\n",
       "      <th>photoUrl</th>\n",
       "      <th>Nationality</th>\n",
       "      <th>Age</th>\n",
       "      <th>OVA</th>\n",
       "      <th>POT</th>\n",
       "      <th>Club</th>\n",
       "      <th>Contract_status</th>\n",
       "      <th>Positions</th>\n",
       "      <th>...</th>\n",
       "      <th>A/W</th>\n",
       "      <th>D/W</th>\n",
       "      <th>IR</th>\n",
       "      <th>PAC</th>\n",
       "      <th>SHO</th>\n",
       "      <th>PAS</th>\n",
       "      <th>DRI</th>\n",
       "      <th>DEF</th>\n",
       "      <th>PHY</th>\n",
       "      <th>Hits</th>\n",
       "    </tr>\n",
       "  </thead>\n",
       "  <tbody>\n",
       "    <tr>\n",
       "      <th>0</th>\n",
       "      <td>158023</td>\n",
       "      <td>Lionel Messi</td>\n",
       "      <td>https://cdn.sofifa.com/players/158/023/21_60.png</td>\n",
       "      <td>Argentina</td>\n",
       "      <td>33</td>\n",
       "      <td>93</td>\n",
       "      <td>93</td>\n",
       "      <td>FC Barcelona</td>\n",
       "      <td>Contract_active</td>\n",
       "      <td>RW, ST, CF</td>\n",
       "      <td>...</td>\n",
       "      <td>Medium</td>\n",
       "      <td>Low</td>\n",
       "      <td>5</td>\n",
       "      <td>85</td>\n",
       "      <td>92</td>\n",
       "      <td>91</td>\n",
       "      <td>95</td>\n",
       "      <td>38</td>\n",
       "      <td>65</td>\n",
       "      <td>771</td>\n",
       "    </tr>\n",
       "    <tr>\n",
       "      <th>1</th>\n",
       "      <td>20801</td>\n",
       "      <td>C. Ronaldo dos Santos Aveiro</td>\n",
       "      <td>https://cdn.sofifa.com/players/020/801/21_60.png</td>\n",
       "      <td>Portugal</td>\n",
       "      <td>35</td>\n",
       "      <td>92</td>\n",
       "      <td>92</td>\n",
       "      <td>Juventus</td>\n",
       "      <td>Contract_active</td>\n",
       "      <td>ST, LW</td>\n",
       "      <td>...</td>\n",
       "      <td>High</td>\n",
       "      <td>Low</td>\n",
       "      <td>5</td>\n",
       "      <td>89</td>\n",
       "      <td>93</td>\n",
       "      <td>81</td>\n",
       "      <td>89</td>\n",
       "      <td>35</td>\n",
       "      <td>77</td>\n",
       "      <td>562</td>\n",
       "    </tr>\n",
       "    <tr>\n",
       "      <th>2</th>\n",
       "      <td>200389</td>\n",
       "      <td>Jan Oblak</td>\n",
       "      <td>https://cdn.sofifa.com/players/200/389/21_60.png</td>\n",
       "      <td>Slovenia</td>\n",
       "      <td>27</td>\n",
       "      <td>91</td>\n",
       "      <td>93</td>\n",
       "      <td>Atlético Madrid</td>\n",
       "      <td>Contract_active</td>\n",
       "      <td>GK</td>\n",
       "      <td>...</td>\n",
       "      <td>Medium</td>\n",
       "      <td>Medium</td>\n",
       "      <td>3</td>\n",
       "      <td>87</td>\n",
       "      <td>92</td>\n",
       "      <td>78</td>\n",
       "      <td>90</td>\n",
       "      <td>52</td>\n",
       "      <td>90</td>\n",
       "      <td>150</td>\n",
       "    </tr>\n",
       "  </tbody>\n",
       "</table>\n",
       "<p>3 rows × 74 columns</p>\n",
       "</div>"
      ],
      "text/plain": [
       "       ID                     Full_name  \\\n",
       "0  158023                  Lionel Messi   \n",
       "1   20801  C. Ronaldo dos Santos Aveiro   \n",
       "2  200389                     Jan Oblak   \n",
       "\n",
       "                                           photoUrl Nationality  Age  OVA  \\\n",
       "0  https://cdn.sofifa.com/players/158/023/21_60.png   Argentina   33   93   \n",
       "1  https://cdn.sofifa.com/players/020/801/21_60.png    Portugal   35   92   \n",
       "2  https://cdn.sofifa.com/players/200/389/21_60.png    Slovenia   27   91   \n",
       "\n",
       "   POT             Club  Contract_status   Positions  ...     A/W     D/W IR  \\\n",
       "0   93     FC Barcelona  Contract_active  RW, ST, CF  ...  Medium     Low  5   \n",
       "1   92         Juventus  Contract_active      ST, LW  ...    High     Low  5   \n",
       "2   93  Atlético Madrid  Contract_active          GK  ...  Medium  Medium  3   \n",
       "\n",
       "   PAC SHO PAS DRI  DEF  PHY  Hits  \n",
       "0   85  92  91  95   38   65   771  \n",
       "1   89  93  81  89   35   77   562  \n",
       "2   87  92  78  90   52   90   150  \n",
       "\n",
       "[3 rows x 74 columns]"
      ]
     },
     "execution_count": 87,
     "metadata": {},
     "output_type": "execute_result"
    }
   ],
   "source": [
    "Cleaned_Fifa_Data.head(3)"
   ]
  },
  {
   "cell_type": "code",
   "execution_count": null,
   "metadata": {},
   "outputs": [],
   "source": []
  }
 ],
 "metadata": {
  "kernelspec": {
   "display_name": "Python 3",
   "language": "python",
   "name": "python3"
  },
  "language_info": {
   "codemirror_mode": {
    "name": "ipython",
    "version": 3
   },
   "file_extension": ".py",
   "mimetype": "text/x-python",
   "name": "python",
   "nbconvert_exporter": "python",
   "pygments_lexer": "ipython3",
   "version": "3.8.3"
  }
 },
 "nbformat": 4,
 "nbformat_minor": 4
}
